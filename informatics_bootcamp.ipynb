{
  "cells": [
    {
      "cell_type": "markdown",
      "metadata": {
        "id": "fKTuyMLINOKx"
      },
      "source": [
        "# Welcome to the GOAL Bioinformatics Bootcamp, 2025!\n",
        "# To Setup this notebook please run the first cell. This will perform the needed downloads and setup to participate."
      ]
    },
    {
      "cell_type": "code",
      "execution_count": null,
      "metadata": {
        "id": "IkUOHAp-FmAu"
      },
      "outputs": [],
      "source": [
        "# NGS Bioinformatics Hands On Lab\n",
        "\n",
        "# Install required packages\n",
        "!apt-get update\n",
        "!apt-get install -y fastp fastqc bwa samtools tabix\n",
        "!pip install pysam\n",
        "\n",
        "# Optional: Install additional tools if not available in Colab\n",
        "!wget https://github.com/biod/sambamba/releases/download/v0.8.0/sambamba-0.8.0-linux-amd64-static.gz\n",
        "!gunzip sambamba-0.8.0-linux-amd64-static.gz\n",
        "!chmod +x sambamba-0.8.0-linux-amd64-static\n",
        "!mv sambamba-0.8.0-linux-amd64-static /usr/local/bin/sambamba\n",
        "\n",
        "# For ABRA2\n",
        "!wget https://github.com/mozack/abra2/releases/download/v2.23/abra2-2.23.jar\n",
        "!chmod +x abra2-2.23.jar\n",
        "\n",
        "# For VarScan\n",
        "!wget https://github.com/dkoboldt/varscan/raw/master/VarScan.v2.4.6.jar\n",
        "!chmod +x VarScan.v2.4.6.jar\n",
        "\n",
        "# for ANNOVAR\n",
        "!wget http://www.openbioinformatics.org/annovar/download/0wgxR2rIVP/annovar.latest.tar.gz\n",
        "!tar -zxvf annovar.latest.tar.gz\n",
        "!rm -r annovar.latest.tar.gz\n",
        "!rm -r annovar/humandb\n",
        "\n",
        "# Create directories for data and reference files\n",
        "!mkdir -p data assets/gatk_b37 assets/humandb annovar\n",
        "\n",
        "# Download pre-indexed reference genome\n",
        "!wget https://hgdownload.cse.ucsc.edu/goldenpath/hg19/bigZips/analysisSet/hg19.p13.plusMT.no_alt_analysis_set.bwa_index.tar.gz -O assets/hg19_bwa_index.tar.gz\n",
        "\n",
        "# Extract BWA index files\n",
        "!tar -xzvf /content/assets/hg19_bwa_index.tar.gz --strip-components=1 -C /content/assets/gatk_b37/\n",
        "\n",
        "# Download reference FASTA file.\n",
        "!wget https://hgdownload.cse.ucsc.edu/goldenpath/hg19/bigZips/analysisSet/hg19.p13.plusMT.no_alt_analysis_set.fa.gz -O /content/assets/gatk_b37/hg19.p13.plusMT.no_alt_analysis_set.fa.gz\n",
        "\n",
        "# Uncompress the reference FASTA file\n",
        "!gunzip -c /content/assets/gatk_b37/hg19.p13.plusMT.no_alt_analysis_set.fa.gz > /content/assets/gatk_b37/hg19.p13.plusMT.no_alt_analysis_set.fa\n",
        "\n",
        "# Get the raw read files and the bed file.\n",
        "!wget https://raw.githubusercontent.com/Eitan177/Bioinformatics_Bootcamp/main/ngs_ws_hd701_R1.fq.gz\n",
        "!wget https://raw.githubusercontent.com/Eitan177/Bioinformatics_Bootcamp/main/ngs_ws_hd701_R2.fq.gz\n",
        "!wget https://raw.githubusercontent.com/Eitan177/Bioinformatics_Bootcamp/main/ngs_ws.bed\n",
        "!cp ngs_ws.bed /content/assets/\n",
        "\n",
        "# Download the annovar file.\n",
        "\n",
        "!pip install -U gdown\n",
        "import gdown\n",
        "file_id = \"1yANVV31SMqwzRNnEFiLSktxj8eQL5CSp\"\n",
        "gdown.download(f\"https://drive.google.com/uc?id={file_id}\", quiet=False)\n",
        "\n",
        "!unzip annotation_db_and_vcfs.zip # Unzip the annovar file.\n",
        "\n",
        "!tar -xzvf /content/grip_course_annovar_db.tar.gz --strip-components=1 -C /content/assets/humandb/ # Add the necessary files to humandb."
      ]
    },
    {
      "cell_type": "code",
      "execution_count": null,
      "metadata": {
        "id": "0fQkwqDfT4YW"
      },
      "outputs": [],
      "source": [
        "# 1. Examine content of the FASTQ file\n",
        "!zcat /content/ngs_ws_hd701_R1.fq.gz | head -n 20"
      ]
    },
    {
      "cell_type": "code",
      "execution_count": null,
      "metadata": {
        "id": "kFsXmtGeT50-"
      },
      "outputs": [],
      "source": [
        "# 2. Perform FASTQ processing prior to alignment\n",
        "!fastp -i /content/ngs_ws_hd701_R1.fq.gz -o data/hd701_R1_processed.fq.gz -I /content/ngs_ws_hd701_R2.fq.gz -O data/hd701_R2_processed.fq.gz -z 4 -w 2 -h data/hd701_fq_qc.html"
      ]
    },
    {
      "cell_type": "code",
      "execution_count": null,
      "metadata": {
        "id": "p-tta62JT8vS"
      },
      "outputs": [],
      "source": [
        "# 3. Generate FASTQ quality control data\n",
        "!fastqc -o data -f fastq /content/ngs_ws_hd701_R1.fq.gz /content/ngs_ws_hd701_R2.fq.gz"
      ]
    },
    {
      "cell_type": "code",
      "execution_count": null,
      "metadata": {
        "id": "4hZqzfN5J0r5"
      },
      "outputs": [],
      "source": [
        "# 4. Display QC report in Colab\n",
        "from IPython.core.display import display, HTML\n",
        "with open('data/ngs_ws_hd701_R1_fastqc.html', 'r') as f:\n",
        "    display(HTML(f.read()))"
      ]
    },
    {
      "cell_type": "markdown",
      "metadata": {
        "id": "Z3Zlaim8dtfO"
      },
      "source": [
        "# Click the 3 vertical dots on the right of the **previous** cell and then click on view output fullscreen to see the QC file."
      ]
    },
    {
      "cell_type": "code",
      "execution_count": null,
      "metadata": {
        "id": "lBRmK1ojBjgx"
      },
      "outputs": [],
      "source": [
        "# 5. Align sequence to GRCh37\n",
        "\n",
        "!bwa mem -M -v 1 -t 2 -R \"@RG\\\\tID:hd701\\\\tSM:hd701\\\\tPL:ILLUMINA\\\\tPI:150\\\\tCN:lab\" /content/assets/gatk_b37/hg19.p13.plusMT.no_alt_analysis_set.fa /content/data/hd701_R1_processed.fq.gz /content/data/hd701_R2_processed.fq.gz > /content/data/hd701_raw.sam"
      ]
    },
    {
      "cell_type": "code",
      "execution_count": null,
      "metadata": {
        "id": "gHpGcjx1eAjP"
      },
      "outputs": [],
      "source": [
        "# 6. Convert the SAM file into a BAM file\n",
        "!samtools view -Shu data/hd701_raw.sam > data/hd701_raw.bam"
      ]
    },
    {
      "cell_type": "code",
      "execution_count": null,
      "metadata": {
        "id": "dR6JxM4zeC6O"
      },
      "outputs": [],
      "source": [
        "# 7. Sort and index raw BAM file\n",
        "!sambamba sort -p -t 2 -o data/hd701_sorted.bam data/hd701_raw.bam"
      ]
    },
    {
      "cell_type": "code",
      "execution_count": null,
      "metadata": {
        "id": "sHwuMotpQ0BN"
      },
      "outputs": [],
      "source": [
        "# 8. Mark PCR duplicates in BAM file\n",
        "!sambamba markdup -t 2 -p data/hd701_sorted.bam data/hd701_dedup.bam"
      ]
    },
    {
      "cell_type": "code",
      "execution_count": null,
      "metadata": {
        "id": "PZM3RtWXfSzB"
      },
      "outputs": [],
      "source": [
        "# 9. Perform indel realignment - Update the reference path\n",
        "!java -jar abra2-2.23.jar --in data/hd701_dedup.bam --out data/hd701_realigned.bam --ref /content/assets/gatk_b37/hg19.p13.plusMT.no_alt_analysis_set.fa \\\\\n",
        "!--threads 2 --targets assets/ngs_ws.bed --index --tmpdir /tmp/ > data/hd701_abra.log"
      ]
    },
    {
      "cell_type": "code",
      "execution_count": null,
      "metadata": {
        "id": "TPom2kN_QAYl"
      },
      "outputs": [],
      "source": [
        "# 10. Inspect aligned sequences (show first few lines)\n",
        "!samtools view -h data/hd701_realigned.bam | head -n 20"
      ]
    },
    {
      "cell_type": "code",
      "execution_count": null,
      "metadata": {
        "id": "vSBVTyONUxOF"
      },
      "outputs": [],
      "source": [
        "!# 11. Call variant - Update the reference path\n",
        "!samtools mpileup -BA -q 20 -Q 30 -d 4000 -l assets/ngs_ws.bed -f /content/assets/gatk_b37/hg19.p13.plusMT.no_alt_analysis_set.fa data/hd701_realigned.bam | java -Xmx4G -jar VarScan.v2.4.6.jar mpileup2vcf --min-coverage 8 --min-var-freq 0.05 --p-value 0.05 --min-avg-qual 30 --strand-filter 1 --output-vcf 1 --variants > data/hd701_raw.vcf"
      ]
    },
    {
      "cell_type": "code",
      "execution_count": null,
      "metadata": {
        "id": "OwEyk2gNkivd"
      },
      "outputs": [],
      "source": [
        "# 12. Compress and index VCF file\n",
        "!bgzip data/hd701_raw.vcf\n",
        "!tabix -p vcf data/hd701_raw.vcf.gz"
      ]
    },
    {
      "cell_type": "code",
      "execution_count": null,
      "metadata": {
        "id": "10pXsS4ZXjUB"
      },
      "outputs": [],
      "source": [
        "# 13. Inspect variants in a raw VCF file\n",
        "!zcat data/hd701_raw.vcf.gz | head -n 100"
      ]
    },
    {
      "cell_type": "code",
      "execution_count": null,
      "metadata": {
        "id": "fNgx4SIak1Lc"
      },
      "outputs": [],
      "source": [
        "# 14. Annotate variants (requires ANNOVAR to be set up)\n",
        "!perl annovar/table_annovar.pl data/hd701_raw.vcf.gz assets/humandb/ -out data/hd701_annotated -buildver hg19 -remove -nastring . -otherinfo -vcfinput -thread 2 -maxgenethread 2 -protocol refGene,cytoBand,cosmic85,clinvar_20150330 -operation g,r,f,f"
      ]
    },
    {
      "cell_type": "code",
      "execution_count": null,
      "metadata": {
        "id": "MeRm3HGFXqbe"
      },
      "outputs": [],
      "source": [
        "# 15. Inspect annotated VCF file\n",
        "!head -n 100 data/hd701_annotated.hg19_multianno.vcf"
      ]
    },
    {
      "cell_type": "code",
      "execution_count": null,
      "metadata": {
        "id": "H4wX4hejlXWM"
      },
      "outputs": [],
      "source": [
        "# 16. 🌟 Download BAM files for visualization\n",
        "\n",
        "from google.colab import files\n",
        "files.download('data/hd701_realigned.bam') # Download the realigned bam file.\n"
      ]
    },
    {
      "cell_type": "code",
      "execution_count": null,
      "metadata": {
        "id": "CO5NIpcKnV1C"
      },
      "outputs": [],
      "source": [
        "files.download('data/hd701_realigned.bai') # Download the realigned bam index file."
      ]
    },
    {
      "cell_type": "code",
      "source": [
        "files.download('data/hd701_annotated.hg19_multianno.vcf')"
      ],
      "metadata": {
        "id": "-ZF09sAhFp2n",
        "outputId": "abcc13ea-1956-484b-88f5-86a357d3f21a",
        "colab": {
          "base_uri": "https://localhost:8080/",
          "height": 17
        }
      },
      "execution_count": 21,
      "outputs": [
        {
          "output_type": "display_data",
          "data": {
            "text/plain": [
              "<IPython.core.display.Javascript object>"
            ],
            "application/javascript": [
              "\n",
              "    async function download(id, filename, size) {\n",
              "      if (!google.colab.kernel.accessAllowed) {\n",
              "        return;\n",
              "      }\n",
              "      const div = document.createElement('div');\n",
              "      const label = document.createElement('label');\n",
              "      label.textContent = `Downloading \"${filename}\": `;\n",
              "      div.appendChild(label);\n",
              "      const progress = document.createElement('progress');\n",
              "      progress.max = size;\n",
              "      div.appendChild(progress);\n",
              "      document.body.appendChild(div);\n",
              "\n",
              "      const buffers = [];\n",
              "      let downloaded = 0;\n",
              "\n",
              "      const channel = await google.colab.kernel.comms.open(id);\n",
              "      // Send a message to notify the kernel that we're ready.\n",
              "      channel.send({})\n",
              "\n",
              "      for await (const message of channel.messages) {\n",
              "        // Send a message to notify the kernel that we're ready.\n",
              "        channel.send({})\n",
              "        if (message.buffers) {\n",
              "          for (const buffer of message.buffers) {\n",
              "            buffers.push(buffer);\n",
              "            downloaded += buffer.byteLength;\n",
              "            progress.value = downloaded;\n",
              "          }\n",
              "        }\n",
              "      }\n",
              "      const blob = new Blob(buffers, {type: 'application/binary'});\n",
              "      const a = document.createElement('a');\n",
              "      a.href = window.URL.createObjectURL(blob);\n",
              "      a.download = filename;\n",
              "      div.appendChild(a);\n",
              "      a.click();\n",
              "      div.remove();\n",
              "    }\n",
              "  "
            ]
          },
          "metadata": {}
        },
        {
          "output_type": "display_data",
          "data": {
            "text/plain": [
              "<IPython.core.display.Javascript object>"
            ],
            "application/javascript": [
              "download(\"download_2cf17221-8769-4cf4-8657-12ccfdad9f75\", \"hd701_annotated.hg19_multianno.vcf\", 18692)"
            ]
          },
          "metadata": {}
        }
      ]
    }
  ],
  "metadata": {
    "colab": {
      "provenance": []
    },
    "kernelspec": {
      "display_name": "Python 3",
      "name": "python3"
    },
    "language_info": {
      "name": "python"
    }
  },
  "nbformat": 4,
  "nbformat_minor": 0
}