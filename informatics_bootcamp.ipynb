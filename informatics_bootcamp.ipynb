{
  "nbformat": 4,
  "nbformat_minor": 0,
  "metadata": {
    "colab": {
      "provenance": [],
      "include_colab_link": true
    },
    "kernelspec": {
      "name": "python3",
      "display_name": "Python 3"
    },
    "language_info": {
      "name": "python"
    }
  },
  "cells": [
    {
      "cell_type": "markdown",
      "metadata": {
        "id": "view-in-github",
        "colab_type": "text"
      },
      "source": [
        "<a href=\"https://colab.research.google.com/github/Eitan177/Bioinformatics_Bootcamp/blob/main/informatics_bootcamp.ipynb\" target=\"_parent\"><img src=\"https://colab.research.google.com/assets/colab-badge.svg\" alt=\"Open In Colab\"/></a>"
      ]
    },
    {
      "cell_type": "markdown",
      "source": [
        "# Welcome to the GOAL Bioinformatics Bootcamp, 2024! To Setup this notebook please run the first three cells. This will download the packages you will need to participate"
      ],
      "metadata": {
        "id": "fKTuyMLINOKx"
      }
    },
    {
      "cell_type": "code",
      "source": [
        "# NGS Bioinformatics Hands On Lab\n",
        "\n",
        "# Install required packages\n",
        "!apt-get update\n",
        "!apt-get install -y fastp fastqc bwa samtools tabix\n",
        "!pip install pysam\n",
        "\n",
        "# Optional: Install additional tools if not available in Colab\n",
        "!wget https://github.com/biod/sambamba/releases/download/v0.8.0/sambamba-0.8.0-linux-amd64-static.gz\n",
        "!gunzip sambamba-0.8.0-linux-amd64-static.gz\n",
        "!chmod +x sambamba-0.8.0-linux-amd64-static\n",
        "!mv sambamba-0.8.0-linux-amd64-static /usr/local/bin/sambamba\n",
        "\n",
        "# For ABRA2\n",
        "!wget https://github.com/mozack/abra2/releases/download/v2.23/abra2-2.23.jar\n",
        "!chmod +x abra2-2.23.jar\n",
        "\n",
        "# For VarScan\n",
        "!wget https://github.com/dkoboldt/varscan/raw/master/VarScan.v2.4.6.jar\n",
        "!chmod +x VarScan.v2.4.6.jar\n",
        "\n",
        "# for ANNOVAR\n",
        "!wget http://www.openbioinformatics.org/annovar/download/0wgxR2rIVP/annovar.latest.tar.gz\n",
        "!tar -zxvf annovar.latest.tar.gz\n",
        "!rm -r annovar.latest.tar.gz\n",
        "!rm -r annovar/humandb\n",
        "!perl annovar/annotate_variation.pl -buildver hg19 -downdb -webfrom annovar refGene assets/humandb/\n",
        "!perl /content/annovar/annotate_variation.pl -buildver hg19 -downdb cytoBand assets/humandb/\n",
        "!perl annovar/annotate_variation.pl -buildver hg19 -downdb -webfrom annovar clinvar_20150330 assets/humandb/\n",
        "!perl annovar/annotate_variation.pl -buildver hg19 -downdb -webfrom annovar cosmic85 assets/humandb/\n",
        "\n",
        "# Create directories for data and reference files\n",
        "!mkdir -p data assets/gatk_b37 assets/humandb annovar\n",
        "\n",
        "# Download pre-indexed reference genome\n",
        "!wget https://hgdownload.cse.ucsc.edu/goldenpath/hg19/bigZips/analysisSet/hg19.p13.plusMT.no_alt_analysis_set.bwa_index.tar.gz -O assets/hg19_bwa_index.tar.gz\n",
        "\n"
      ],
      "metadata": {
        "id": "IkUOHAp-FmAu"
      },
      "execution_count": null,
      "outputs": []
    },
    {
      "cell_type": "code",
      "source": [
        "!wget https://hgdownload.cse.ucsc.edu/goldenpath/hg19/bigZips/analysisSet/hg19.p13.plusMT.no_alt_analysis_set.fa.gz -O /content/assets/gatk_b37/"
      ],
      "metadata": {
        "colab": {
          "base_uri": "https://localhost:8080/"
        },
        "id": "PCLBrAfFSDo0",
        "outputId": "1326fb81-5a3a-4567-a6bb-80f546e0e8b3"
      },
      "execution_count": 10,
      "outputs": [
        {
          "output_type": "stream",
          "name": "stdout",
          "text": [
            "--2025-04-29 19:12:31--  https://hgdownload.cse.ucsc.edu/goldenpath/hg19/bigZips/analysisSet/hg19.p13.plusMT.no_alt_analysis_set.fa.gz\n",
            "Resolving hgdownload.cse.ucsc.edu (hgdownload.cse.ucsc.edu)... 128.114.119.163\n",
            "Connecting to hgdownload.cse.ucsc.edu (hgdownload.cse.ucsc.edu)|128.114.119.163|:443... connected.\n",
            "HTTP request sent, awaiting response... 200 OK\n",
            "Length: 863259336 (823M) [application/x-gzip]\n",
            "Saving to: ‘assets/hg19fa_index.tar.gz’\n",
            "\n",
            "assets/hg19fa_index 100%[===================>] 823.27M  43.7MB/s    in 19s     \n",
            "\n",
            "2025-04-29 19:12:50 (43.1 MB/s) - ‘assets/hg19fa_index.tar.gz’ saved [863259336/863259336]\n",
            "\n"
          ]
        }
      ]
    },
    {
      "cell_type": "code",
      "source": [
        "# Extract BWA index files\n",
        "!tar -xzvf /content/assets/hg19_bwa_index.tar.gz -C /content/assets/gatk_b37/\n",
        "\n",
        "# Uncompress the reference FASTA file\n",
        "!gunzip -c /content/assets/gatk_b37/hg19.p13.plusMT.no_alt_analysis_set.fa.gz > /content/assets/gatk_b37/hg19.p13.plusMT.no_alt_analysis_set.fa\n"
      ],
      "metadata": {
        "id": "QwKL6o5_B5eG",
        "outputId": "7ba22680-02c2-480d-c52b-ead36396330c",
        "colab": {
          "base_uri": "https://localhost:8080/"
        }
      },
      "execution_count": 23,
      "outputs": [
        {
          "output_type": "stream",
          "name": "stdout",
          "text": [
            "hg19.p13.plusMT.no_alt_analysis_set/hg19.p13.plusMT.no_alt_analysis_set.fa.amb\n",
            "hg19.p13.plusMT.no_alt_analysis_set/hg19.p13.plusMT.no_alt_analysis_set.fa.ann\n",
            "hg19.p13.plusMT.no_alt_analysis_set/hg19.p13.plusMT.no_alt_analysis_set.fa.bwt\n",
            "hg19.p13.plusMT.no_alt_analysis_set/hg19.p13.plusMT.no_alt_analysis_set.fa.pac\n",
            "hg19.p13.plusMT.no_alt_analysis_set/hg19.p13.plusMT.no_alt_analysis_set.fa.sa\n"
          ]
        }
      ]
    },
    {
      "cell_type": "code",
      "source": [
        "!wget https://raw.githubusercontent.com/Eitan177/Bioinformatics_Bootcamp/main/ngs_ws_hd701_R1.fq.gz\n",
        "!wget https://raw.githubusercontent.com/Eitan177/Bioinformatics_Bootcamp/main/ngs_ws_hd701_R2.fq.gz\n",
        "!wget https://raw.githubusercontent.com/Eitan177/Bioinformatics_Bootcamp/main/ngs_ws.bed -o /content/assets/ngs_ws.bed"
      ],
      "metadata": {
        "id": "unsF9-bF_pDF",
        "outputId": "df58deb4-66c9-40d9-fb0d-6863b3fd4b40",
        "colab": {
          "base_uri": "https://localhost:8080/"
        }
      },
      "execution_count": 28,
      "outputs": [
        {
          "output_type": "stream",
          "name": "stdout",
          "text": [
            "--2025-04-29 19:39:30--  https://raw.githubusercontent.com/Eitan177/Bioinformatics_Bootcamp/main/ngs_ws.bed\n",
            "Resolving raw.githubusercontent.com (raw.githubusercontent.com)... 185.199.108.133, 185.199.109.133, 185.199.110.133, ...\n",
            "Connecting to raw.githubusercontent.com (raw.githubusercontent.com)|185.199.108.133|:443... connected.\n",
            "HTTP request sent, awaiting response... 200 OK\n",
            "Length: 204 [text/plain]\n",
            "Saving to: ‘ngs_ws.bed’\n",
            "\n",
            "ngs_ws.bed          100%[===================>]     204  --.-KB/s    in 0s      \n",
            "\n",
            "2025-04-29 19:39:30 (3.12 MB/s) - ‘ngs_ws.bed’ saved [204/204]\n",
            "\n"
          ]
        }
      ]
    },
    {
      "cell_type": "code",
      "source": [
        "# 1. Examine content of the FASTQ file\n",
        "!zcat /content/ngs_ws_hd701_R1.fq.gz | head -n 20\n",
        "\n",
        "# 2. Perform FASTQ processing prior to alignment\n",
        "!fastp -i /content/ngs_ws_hd701_R1.fq.gz -o data/hd701_R1_processed.fq.gz -I /content/ngs_ws_hd701_R2.fq.gz -O data/hd701_R2_processed.fq.gz -z 4 -w 2 -h data/hd701_fq_qc.html\n",
        "\n",
        "# 3. Generate FASTQ quality control data\n",
        "!fastqc -o data -f fastq /content/ngs_ws_hd701_R1.fq.gz /content/ngs_ws_hd701_R2.fq.gz\n",
        "\n",
        "# 4. Display QC report in Colab\n",
        "from IPython.display import HTML\n",
        "with open('data/hd701_fq_qc.html', 'r') as f:\n",
        "    html_content = f.read()\n",
        "HTML(html_content)\n"
      ],
      "metadata": {
        "id": "4hZqzfN5J0r5"
      },
      "execution_count": null,
      "outputs": []
    },
    {
      "cell_type": "code",
      "source": [
        "!tar -xzvf /content/assets/hg19_bwa_index.tar.gz -C /content/assets/gatk_b37/"
      ],
      "metadata": {
        "id": "4Vkdn8vnAT6q",
        "outputId": "72b2b408-489d-4da8-dad4-90e1c02943e0",
        "colab": {
          "base_uri": "https://localhost:8080/"
        }
      },
      "execution_count": 25,
      "outputs": [
        {
          "output_type": "stream",
          "name": "stdout",
          "text": [
            "hg19.p13.plusMT.no_alt_analysis_set/hg19.p13.plusMT.no_alt_analysis_set.fa.amb\n",
            "hg19.p13.plusMT.no_alt_analysis_set/hg19.p13.plusMT.no_alt_analysis_set.fa.ann\n",
            "hg19.p13.plusMT.no_alt_analysis_set/hg19.p13.plusMT.no_alt_analysis_set.fa.bwt\n",
            "hg19.p13.plusMT.no_alt_analysis_set/hg19.p13.plusMT.no_alt_analysis_set.fa.pac\n",
            "hg19.p13.plusMT.no_alt_analysis_set/hg19.p13.plusMT.no_alt_analysis_set.fa.sa\n"
          ]
        }
      ]
    },
    {
      "cell_type": "code",
      "source": [
        "!bwa mem -M -v 1 -t 2 -R \"@RG\\\\tID:hd701\\\\tSM:hd701\\\\tPL:ILLUMINA\\\\tPI:150\\\\tCN:lab\" /content/assets/gatk_b37/hg19.p13.plusMT.no_alt_analysis_set.fa /content/data/hd701_R1_processed.fq.gz /content/data/hd701_R2_processed.fq.gz > /content/data/hd701_raw.sam"
      ],
      "metadata": {
        "id": "lBRmK1ojBjgx",
        "outputId": "ab5490d3-29c3-49fe-f16b-6b9563597f82",
        "colab": {
          "base_uri": "https://localhost:8080/"
        }
      },
      "execution_count": 26,
      "outputs": [
        {
          "output_type": "stream",
          "name": "stdout",
          "text": [
            "[M::mem_pestat] skip orientation FF as there are not enough pairs\n",
            "[M::mem_pestat] analyzing insert size distribution for orientation FR...\n",
            "[M::mem_pestat] (25, 50, 75) percentile: (144, 177, 224)\n",
            "[M::mem_pestat] low and high boundaries for computing mean and std.dev: (1, 384)\n",
            "[M::mem_pestat] mean and std.dev: (186.75, 58.21)\n",
            "[M::mem_pestat] low and high boundaries for proper pairs: (1, 464)\n",
            "[M::mem_pestat] skip orientation RF as there are not enough pairs\n",
            "[M::mem_pestat] skip orientation RR as there are not enough pairs\n",
            "[main] Version: 0.7.17-r1188\n",
            "[main] CMD: bwa mem -M -v 1 -t 2 -R @RG\\tID:hd701\\tSM:hd701\\tPL:ILLUMINA\\tPI:150\\tCN:lab /content/assets/gatk_b37/hg19.p13.plusMT.no_alt_analysis_set.fa /content/data/hd701_R1_processed.fq.gz /content/data/hd701_R2_processed.fq.gz\n",
            "[main] Real time: 35.347 sec; CPU: 7.168 sec\n"
          ]
        }
      ]
    },
    {
      "cell_type": "code",
      "source": [
        "# 6. Convert the SAM file into a BAM file\n",
        "!samtools view -Shu data/hd701_raw.sam > data/hd701_raw.bam\n",
        "\n",
        "# 7. Sort and index raw BAM file\n",
        "!sambamba sort -p -t 2 -o data/hd701_sorted.bam data/hd701_raw.bam\n",
        "\n",
        "# 8. Mark PCR duplicates in BAM file\n",
        "!sambamba markdup -t 2 -p data/hd701_sorted.bam data/hd701_dedup.bam"
      ],
      "metadata": {
        "colab": {
          "base_uri": "https://localhost:8080/"
        },
        "id": "sHwuMotpQ0BN",
        "outputId": "0a6bbd00-a336-4e94-fc93-6c0d519171b5"
      },
      "execution_count": 27,
      "outputs": [
        {
          "output_type": "stream",
          "name": "stdout",
          "text": [
            "\n",
            "sambamba 0.8.0\n",
            " by Artem Tarasov and Pjotr Prins (C) 2012-2020\n",
            "    LDC 1.10.0 / DMD v2.080.1 / LLVM6.0.1 / bootstrap LDC - the LLVM D compiler (0.17.4)\n",
            "\n",
            "Writing sorted chunks to temporary directory...\n",
            "[==============================================================================]\n",
            "\n",
            "sambamba 0.8.0\n",
            " by Artem Tarasov and Pjotr Prins (C) 2012-2020\n",
            "    LDC 1.10.0 / DMD v2.080.1 / LLVM6.0.1 / bootstrap LDC - the LLVM D compiler (0.17.4)\n",
            "\n",
            "finding positions of the duplicate reads in the file...\n",
            "[==============================================================================]\n",
            "  sorted 4959 end pairs\n",
            "     and 0 single ends (among them 0 unmatched pairs)\n",
            "  collecting indices of duplicate reads...   done in 2 ms\n",
            "  found 860 duplicates\n",
            "collected list of positions in 0 min 0 sec\n",
            "marking duplicates...\n",
            "[==============================================================================]\n",
            "collected list of positions in 0 min 0 sec\n"
          ]
        }
      ]
    },
    {
      "cell_type": "code",
      "source": [
        "# 9. Perform indel realignment - Update the reference path\n",
        "!java -jar abra2-2.23.jar --in data/hd701_dedup.bam --out data/hd701_realigned.bam --ref /content/assets/gatk_b37/hg19.p13.plusMT.no_alt_analysis_set.fa --threads 2 --targets assets/ngs_ws.bed --index --tmpdir /tmp/ > data/hd701_abra.log\n",
        "\n",
        "\n",
        "# 10. Inspect aligned sequences (show first few lines)\n",
        "!samtools view -h data/hd701_realigned.bam | head -n 20\n",
        "\n"
      ],
      "metadata": {
        "id": "TPom2kN_QAYl",
        "outputId": "e6695483-9c66-4570-fb38-429cf340ee1e",
        "colab": {
          "base_uri": "https://localhost:8080/"
        }
      },
      "execution_count": 30,
      "outputs": [
        {
          "output_type": "stream",
          "name": "stdout",
          "text": [
            "INFO\tTue Apr 29 19:40:29 UTC 2025\tAbra version: 2.23\n",
            "INFO\tTue Apr 29 19:40:29 UTC 2025\tAbra params: [/content/abra2-2.23.jar --in data/hd701_dedup.bam --out data/hd701_realigned.bam --ref /content/assets/gatk_b37/hg19.p13.plusMT.no_alt_analysis_set.fa --threads 2 --targets assets/ngs_ws.bed --index --tmpdir /tmp/]\n",
            "INFO\tTue Apr 29 19:40:30 UTC 2025\tABRA version: 2.23\n",
            "INFO\tTue Apr 29 19:40:30 UTC 2025\tinput0: data/hd701_dedup.bam\n",
            "INFO\tTue Apr 29 19:40:30 UTC 2025\toutput0: data/hd701_realigned.bam\n",
            "INFO\tTue Apr 29 19:40:30 UTC 2025\tregions: assets/ngs_ws.bed\n",
            "INFO\tTue Apr 29 19:40:30 UTC 2025\treference: /content/assets/gatk_b37/hg19.p13.plusMT.no_alt_analysis_set.fa\n",
            "INFO\tTue Apr 29 19:40:30 UTC 2025\tnum threads: 2\n",
            "INFO\tTue Apr 29 19:40:30 UTC 2025\tminEdgeFrequency: 0\n",
            "minNodeFrequncy: 1\n",
            "minContigLength: -1\n",
            "minBaseQuality: 20\n",
            "minReadCandidateFraction: 0.01\n",
            "maxAverageRegionDepth: 1000\n",
            "minEdgeRatio: 0.01\n",
            "\n",
            "INFO\tTue Apr 29 19:40:30 UTC 2025\tpaired end: true\n",
            "INFO\tTue Apr 29 19:40:30 UTC 2025\tisSkipAssembly: false\n",
            "INFO\tTue Apr 29 19:40:30 UTC 2025\tuseSoftClippedReads: true\n",
            "INFO\tTue Apr 29 19:40:30 UTC 2025\tSW scoring: [8, 32, 48, 1]\n",
            "INFO\tTue Apr 29 19:40:30 UTC 2025\tSoft clip params: [16, 13, 80, 15]\n",
            "INFO\tTue Apr 29 19:40:30 UTC 2025\tJava version: 11.0.26\n",
            "INFO\tTue Apr 29 19:40:30 UTC 2025\thostname: 6fde73578ae9\n",
            "INFO\tTue Apr 29 19:40:30 UTC 2025\tSG match,mismatch,gap_open_penalty,gap_extend_penalty: 8,-32,-48,-1\n",
            "INFO\tTue Apr 29 19:40:30 UTC 2025\tUsing temp directory: /tmp/abra2_5d9f9a91-1d5c-4b9c-8256-1efad023aed215347930201086630963\n",
            "INFO\tTue Apr 29 19:40:30 UTC 2025\tLoading native library from: /tmp/abra2_5d9f9a91-1d5c-4b9c-8256-1efad023aed215347930201086630963/libAbra.so\n",
            "INFO\tTue Apr 29 19:40:30 UTC 2025\tLoading reference map:  /content/assets/gatk_b37/hg19.p13.plusMT.no_alt_analysis_set.fa\n",
            "INFO\tTue Apr 29 19:42:09 UTC 2025\tDone loading ref map.  Elapsed secs: 99\n",
            "INFO\tTue Apr 29 19:42:09 UTC 2025\tReading Input SAM Header and identifying read length\n",
            "INFO\tTue Apr 29 19:42:09 UTC 2025\tIdentifying header and determining read length\n",
            "INFO\tTue Apr 29 19:42:09 UTC 2025\tMin insert length: 0\n",
            "INFO\tTue Apr 29 19:42:09 UTC 2025\tMax insert length: 617\n",
            "INFO\tTue Apr 29 19:42:09 UTC 2025\tMax read length is: 76\n",
            "INFO\tTue Apr 29 19:42:09 UTC 2025\tMin contig length: 77\n",
            "INFO\tTue Apr 29 19:42:09 UTC 2025\tRead length: 76\n",
            "INFO\tTue Apr 29 19:42:09 UTC 2025\tLoading target regions\n",
            "INFO\tTue Apr 29 19:42:09 UTC 2025\tLoading target regions from : assets/ngs_ws.bed\n",
            "INFO\tTue Apr 29 19:42:09 UTC 2025\tCollapsed regions from 6 to 6\n",
            "INFO\tTue Apr 29 19:42:09 UTC 2025\tNum regions: 39\n",
            "INFO\tTue Apr 29 19:42:09 UTC 2025\tTotal junctions input: 0\n",
            "INFO\tTue Apr 29 19:42:09 UTC 2025\tFinal Junctions: 0, Variant Junctions: 0\n",
            "INFO\tTue Apr 29 19:42:09 UTC 2025\tIntel deflater disabled\n",
            "INFO\tTue Apr 29 19:42:09 UTC 2025\tProcessing chromosome chunk: chr1_1_25000000\n",
            "INFO\tTue Apr 29 19:42:09 UTC 2025\tProcessing chromosome chunk: chr1_25000001_50000000\n",
            "INFO\tTue Apr 29 19:42:09 UTC 2025\tClock time in Chromosome: chr1_1_25000000: 0\n",
            "INFO\tTue Apr 29 19:42:09 UTC 2025\tProcessing chromosome chunk: chr1_50000001_75000000\n",
            "INFO\tTue Apr 29 19:42:09 UTC 2025\tClock time in Chromosome: chr1_50000001_75000000: 0\n",
            "INFO\tTue Apr 29 19:42:09 UTC 2025\tProcessing chromosome chunk: chr1_75000001_100000000\n",
            "INFO\tTue Apr 29 19:42:09 UTC 2025\tClock time in Chromosome: chr1_75000001_100000000: 0\n",
            "INFO\tTue Apr 29 19:42:09 UTC 2025\tProcessing chromosome chunk: chr1_100000001_125000000\n",
            "INFO\tTue Apr 29 19:42:09 UTC 2025\tClock time in Chromosome: chr1_100000001_125000000: 0\n",
            "INFO\tTue Apr 29 19:42:09 UTC 2025\tProcessing chromosome chunk: chr1_125000001_150000000\n",
            "INFO\tTue Apr 29 19:42:09 UTC 2025\tClock time in Chromosome: chr1_125000001_150000000: 0\n",
            "INFO\tTue Apr 29 19:42:09 UTC 2025\tProcessing chromosome chunk: chr1_150000001_175000000\n",
            "INFO\tTue Apr 29 19:42:09 UTC 2025\tClock time in Chromosome: chr1_150000001_175000000: 0\n",
            "INFO\tTue Apr 29 19:42:09 UTC 2025\tProcessing chromosome chunk: chr1_175000001_200000000\n",
            "INFO\tTue Apr 29 19:42:09 UTC 2025\tPROCESS_REGION_MSECS:\tchr1_27105337_27105737\t38\t0\t0\t0\n",
            "INFO\tTue Apr 29 19:42:09 UTC 2025\tClock time in Chromosome: chr1_175000001_200000000: 0\n",
            "INFO\tTue Apr 29 19:42:09 UTC 2025\tProcessing chromosome chunk: chr1_200000001_225000000\n",
            "INFO\tTue Apr 29 19:42:09 UTC 2025\tClock time in Chromosome: chr1_200000001_225000000: 0\n",
            "INFO\tTue Apr 29 19:42:09 UTC 2025\tProcessing chromosome chunk: chr1_225000001_249250621\n",
            "INFO\tTue Apr 29 19:42:09 UTC 2025\tClock time in Chromosome: chr1_225000001_249250621: 0\n",
            "INFO\tTue Apr 29 19:42:09 UTC 2025\tProcessing chromosome chunk: chr2_1_25000000\n",
            "INFO\tTue Apr 29 19:42:09 UTC 2025\tClock time in Chromosome: chr2_1_25000000: 0\n",
            "INFO\tTue Apr 29 19:42:09 UTC 2025\tProcessing chromosome chunk: chr2_25000001_50000000\n",
            "INFO\tTue Apr 29 19:42:09 UTC 2025\tClock time in Chromosome: chr2_25000001_50000000: 0\n",
            "INFO\tTue Apr 29 19:42:09 UTC 2025\tProcessing chromosome chunk: chr2_50000001_75000000\n",
            "INFO\tTue Apr 29 19:42:09 UTC 2025\tClock time in Chromosome: chr2_50000001_75000000: 0\n",
            "INFO\tTue Apr 29 19:42:09 UTC 2025\tProcessing chromosome chunk: chr2_75000001_100000000\n",
            "INFO\tTue Apr 29 19:42:09 UTC 2025\tClock time in Chromosome: chr2_75000001_100000000: 0\n",
            "INFO\tTue Apr 29 19:42:09 UTC 2025\tProcessing chromosome chunk: chr2_100000001_125000000\n",
            "INFO\tTue Apr 29 19:42:09 UTC 2025\tClock time in Chromosome: chr2_100000001_125000000: 0\n",
            "INFO\tTue Apr 29 19:42:09 UTC 2025\tProcessing chromosome chunk: chr2_125000001_150000000\n",
            "INFO\tTue Apr 29 19:42:10 UTC 2025\tClock time in Chromosome: chr2_125000001_150000000: 0\n",
            "INFO\tTue Apr 29 19:42:10 UTC 2025\tProcessing chromosome chunk: chr2_150000001_175000000\n",
            "INFO\tTue Apr 29 19:42:10 UTC 2025\tClock time in Chromosome: chr2_150000001_175000000: 0\n",
            "INFO\tTue Apr 29 19:42:10 UTC 2025\tProcessing chromosome chunk: chr2_175000001_200000000\n",
            "INFO\tTue Apr 29 19:42:10 UTC 2025\tClock time in Chromosome: chr2_175000001_200000000: 0\n",
            "INFO\tTue Apr 29 19:42:10 UTC 2025\tProcessing chromosome chunk: chr2_200000001_225000000\n",
            "INFO\tTue Apr 29 19:42:10 UTC 2025\tClock time in Chromosome: chr2_200000001_225000000: 0\n",
            "INFO\tTue Apr 29 19:42:10 UTC 2025\tProcessing chromosome chunk: chr2_225000001_243199373\n",
            "INFO\tTue Apr 29 19:42:10 UTC 2025\tClock time in Chromosome: chr2_225000001_243199373: 0\n",
            "INFO\tTue Apr 29 19:42:10 UTC 2025\tProcessing chromosome chunk: chr3_1_25000000\n",
            "INFO\tTue Apr 29 19:42:10 UTC 2025\tClock time in Chromosome: chr3_1_25000000: 0\n",
            "INFO\tTue Apr 29 19:42:10 UTC 2025\tProcessing chromosome chunk: chr3_25000001_50000000\n",
            "INFO\tTue Apr 29 19:42:10 UTC 2025\tClock time in Chromosome: chr3_25000001_50000000: 0\n",
            "INFO\tTue Apr 29 19:42:10 UTC 2025\tProcessing chromosome chunk: chr3_50000001_75000000\n",
            "INFO\tTue Apr 29 19:42:10 UTC 2025\tClock time in Chromosome: chr3_50000001_75000000: 0\n",
            "INFO\tTue Apr 29 19:42:10 UTC 2025\tProcessing chromosome chunk: chr3_75000001_100000000\n",
            "INFO\tTue Apr 29 19:42:10 UTC 2025\tClock time in Chromosome: chr3_75000001_100000000: 0\n",
            "INFO\tTue Apr 29 19:42:10 UTC 2025\tProcessing chromosome chunk: chr3_100000001_125000000\n",
            "INFO\tTue Apr 29 19:42:10 UTC 2025\tClock time in Chromosome: chr3_100000001_125000000: 0\n",
            "INFO\tTue Apr 29 19:42:10 UTC 2025\tProcessing chromosome chunk: chr3_125000001_150000000\n",
            "INFO\tTue Apr 29 19:42:10 UTC 2025\tClock time in Chromosome: chr3_125000001_150000000: 0\n",
            "INFO\tTue Apr 29 19:42:10 UTC 2025\tProcessing chromosome chunk: chr3_150000001_175000000\n",
            "INFO\tTue Apr 29 19:42:10 UTC 2025\tClock time in Chromosome: chr3_150000001_175000000: 0\n",
            "INFO\tTue Apr 29 19:42:10 UTC 2025\tProcessing chromosome chunk: chr3_175000001_198022430\n",
            "INFO\tTue Apr 29 19:42:10 UTC 2025\tPROCESS_REGION_MSECS:\tchr1_27105537_27105937\t290\t0\t1\t0\n",
            "INFO\tTue Apr 29 19:42:10 UTC 2025\tPROCESS_REGION_MSECS:\tchr1_27105737_27106137\t25\t0\t1\t0\n",
            "INFO\tTue Apr 29 19:42:10 UTC 2025\tPROCESS_REGION_MSECS:\tchr3_178951769_178952287\t244\t0\t1\t0\n",
            "INFO\tTue Apr 29 19:42:10 UTC 2025\tClock time in Chromosome: chr3_175000001_198022430: 0\n",
            "INFO\tTue Apr 29 19:42:10 UTC 2025\tProcessing chromosome chunk: chr4_1_25000000\n",
            "INFO\tTue Apr 29 19:42:10 UTC 2025\tClock time in Chromosome: chr4_1_25000000: 0\n",
            "INFO\tTue Apr 29 19:42:10 UTC 2025\tProcessing chromosome chunk: chr4_25000001_50000000\n",
            "INFO\tTue Apr 29 19:42:10 UTC 2025\tClock time in Chromosome: chr4_25000001_50000000: 0\n",
            "INFO\tTue Apr 29 19:42:10 UTC 2025\tProcessing chromosome chunk: chr4_50000001_75000000\n",
            "INFO\tTue Apr 29 19:42:10 UTC 2025\tClock time in Chromosome: chr4_50000001_75000000: 0\n",
            "INFO\tTue Apr 29 19:42:10 UTC 2025\tProcessing chromosome chunk: chr4_75000001_100000000\n",
            "INFO\tTue Apr 29 19:42:10 UTC 2025\tClock time in Chromosome: chr4_75000001_100000000: 0\n",
            "INFO\tTue Apr 29 19:42:10 UTC 2025\tProcessing chromosome chunk: chr4_100000001_125000000\n",
            "INFO\tTue Apr 29 19:42:10 UTC 2025\tClock time in Chromosome: chr4_100000001_125000000: 0\n",
            "INFO\tTue Apr 29 19:42:10 UTC 2025\tProcessing chromosome chunk: chr4_125000001_150000000\n",
            "INFO\tTue Apr 29 19:42:10 UTC 2025\tClock time in Chromosome: chr4_125000001_150000000: 0\n",
            "INFO\tTue Apr 29 19:42:10 UTC 2025\tProcessing chromosome chunk: chr4_150000001_175000000\n",
            "INFO\tTue Apr 29 19:42:10 UTC 2025\tClock time in Chromosome: chr4_150000001_175000000: 0\n",
            "INFO\tTue Apr 29 19:42:10 UTC 2025\tProcessing chromosome chunk: chr4_175000001_191154276\n",
            "INFO\tTue Apr 29 19:42:10 UTC 2025\tClock time in Chromosome: chr4_175000001_191154276: 0\n",
            "INFO\tTue Apr 29 19:42:10 UTC 2025\tProcessing chromosome chunk: chr5_1_25000000\n",
            "INFO\tTue Apr 29 19:42:10 UTC 2025\tClock time in Chromosome: chr5_1_25000000: 0\n",
            "INFO\tTue Apr 29 19:42:10 UTC 2025\tProcessing chromosome chunk: chr5_25000001_50000000\n",
            "INFO\tTue Apr 29 19:42:10 UTC 2025\tClock time in Chromosome: chr5_25000001_50000000: 0\n",
            "INFO\tTue Apr 29 19:42:10 UTC 2025\tProcessing chromosome chunk: chr5_50000001_75000000\n",
            "INFO\tTue Apr 29 19:42:10 UTC 2025\tClock time in Chromosome: chr5_50000001_75000000: 0\n",
            "INFO\tTue Apr 29 19:42:10 UTC 2025\tProcessing chromosome chunk: chr5_75000001_100000000\n",
            "INFO\tTue Apr 29 19:42:10 UTC 2025\tClock time in Chromosome: chr5_75000001_100000000: 0\n",
            "INFO\tTue Apr 29 19:42:10 UTC 2025\tProcessing chromosome chunk: chr5_100000001_125000000\n",
            "INFO\tTue Apr 29 19:42:10 UTC 2025\tClock time in Chromosome: chr5_100000001_125000000: 0\n",
            "INFO\tTue Apr 29 19:42:10 UTC 2025\tProcessing chromosome chunk: chr5_125000001_150000000\n",
            "INFO\tTue Apr 29 19:42:10 UTC 2025\tClock time in Chromosome: chr5_125000001_150000000: 0\n",
            "INFO\tTue Apr 29 19:42:10 UTC 2025\tProcessing chromosome chunk: chr5_150000001_175000000\n",
            "INFO\tTue Apr 29 19:42:10 UTC 2025\tClock time in Chromosome: chr5_150000001_175000000: 0\n",
            "INFO\tTue Apr 29 19:42:10 UTC 2025\tProcessing chromosome chunk: chr5_175000001_180915260\n",
            "INFO\tTue Apr 29 19:42:10 UTC 2025\tClock time in Chromosome: chr5_175000001_180915260: 0\n",
            "INFO\tTue Apr 29 19:42:10 UTC 2025\tProcessing chromosome chunk: chr6_1_25000000\n",
            "INFO\tTue Apr 29 19:42:10 UTC 2025\tClock time in Chromosome: chr6_1_25000000: 0\n",
            "INFO\tTue Apr 29 19:42:10 UTC 2025\tProcessing chromosome chunk: chr6_25000001_50000000\n",
            "INFO\tTue Apr 29 19:42:10 UTC 2025\tClock time in Chromosome: chr6_25000001_50000000: 0\n",
            "INFO\tTue Apr 29 19:42:10 UTC 2025\tProcessing chromosome chunk: chr6_50000001_75000000\n",
            "INFO\tTue Apr 29 19:42:10 UTC 2025\tClock time in Chromosome: chr6_50000001_75000000: 0\n",
            "INFO\tTue Apr 29 19:42:10 UTC 2025\tProcessing chromosome chunk: chr6_75000001_100000000\n",
            "INFO\tTue Apr 29 19:42:10 UTC 2025\tClock time in Chromosome: chr6_75000001_100000000: 0\n",
            "INFO\tTue Apr 29 19:42:10 UTC 2025\tProcessing chromosome chunk: chr6_100000001_125000000\n",
            "INFO\tTue Apr 29 19:42:10 UTC 2025\tClock time in Chromosome: chr6_100000001_125000000: 0\n",
            "INFO\tTue Apr 29 19:42:10 UTC 2025\tProcessing chromosome chunk: chr6_125000001_150000000\n",
            "INFO\tTue Apr 29 19:42:10 UTC 2025\tClock time in Chromosome: chr6_125000001_150000000: 0\n",
            "INFO\tTue Apr 29 19:42:10 UTC 2025\tProcessing chromosome chunk: chr6_150000001_171115067\n",
            "INFO\tTue Apr 29 19:42:10 UTC 2025\tClock time in Chromosome: chr6_150000001_171115067: 0\n",
            "INFO\tTue Apr 29 19:42:10 UTC 2025\tProcessing chromosome chunk: chr7_1_25000000\n",
            "INFO\tTue Apr 29 19:42:10 UTC 2025\tClock time in Chromosome: chr7_1_25000000: 0\n",
            "INFO\tTue Apr 29 19:42:10 UTC 2025\tProcessing chromosome chunk: chr7_25000001_50000000\n",
            "INFO\tTue Apr 29 19:42:10 UTC 2025\tClock time in Chromosome: chr7_25000001_50000000: 0\n",
            "INFO\tTue Apr 29 19:42:10 UTC 2025\tProcessing chromosome chunk: chr7_50000001_75000000\n",
            "INFO\tTue Apr 29 19:42:10 UTC 2025\tPROCESS_REGION_MSECS:\tchr1_27105937_27106337\t374\t29\t3\t0\n",
            "INFO\tTue Apr 29 19:42:10 UTC 2025\tPROCESS_REGION_MSECS:\tchr7_55241584_55241766\t2\t0\t0\t0\n",
            "INFO\tTue Apr 29 19:42:10 UTC 2025\tClock time in Chromosome: chr7_50000001_75000000: 0\n",
            "INFO\tTue Apr 29 19:42:10 UTC 2025\tProcessing chromosome chunk: chr7_75000001_100000000\n",
            "INFO\tTue Apr 29 19:42:10 UTC 2025\tClock time in Chromosome: chr7_75000001_100000000: 0\n",
            "INFO\tTue Apr 29 19:42:10 UTC 2025\tProcessing chromosome chunk: chr7_100000001_125000000\n",
            "INFO\tTue Apr 29 19:42:10 UTC 2025\tClock time in Chromosome: chr7_100000001_125000000: 0\n",
            "INFO\tTue Apr 29 19:42:10 UTC 2025\tProcessing chromosome chunk: chr7_125000001_150000000\n",
            "INFO\tTue Apr 29 19:42:10 UTC 2025\tPROCESS_REGION_MSECS:\tchr7_140453045_140453223\t1\t0\t0\t0\n",
            "INFO\tTue Apr 29 19:42:10 UTC 2025\tClock time in Chromosome: chr7_125000001_150000000: 0\n",
            "INFO\tTue Apr 29 19:42:10 UTC 2025\tProcessing chromosome chunk: chr7_150000001_159138663\n",
            "INFO\tTue Apr 29 19:42:10 UTC 2025\tClock time in Chromosome: chr7_150000001_159138663: 0\n",
            "INFO\tTue Apr 29 19:42:10 UTC 2025\tProcessing chromosome chunk: chr8_1_25000000\n",
            "INFO\tTue Apr 29 19:42:10 UTC 2025\tClock time in Chromosome: chr8_1_25000000: 0\n",
            "INFO\tTue Apr 29 19:42:10 UTC 2025\tProcessing chromosome chunk: chr8_25000001_50000000\n",
            "INFO\tTue Apr 29 19:42:10 UTC 2025\tClock time in Chromosome: chr8_25000001_50000000: 0\n",
            "INFO\tTue Apr 29 19:42:10 UTC 2025\tProcessing chromosome chunk: chr8_50000001_75000000\n",
            "INFO\tTue Apr 29 19:42:10 UTC 2025\tClock time in Chromosome: chr8_50000001_75000000: 0\n",
            "INFO\tTue Apr 29 19:42:10 UTC 2025\tProcessing chromosome chunk: chr8_75000001_100000000\n",
            "INFO\tTue Apr 29 19:42:10 UTC 2025\tClock time in Chromosome: chr8_75000001_100000000: 0\n",
            "INFO\tTue Apr 29 19:42:10 UTC 2025\tProcessing chromosome chunk: chr8_100000001_125000000\n",
            "INFO\tTue Apr 29 19:42:10 UTC 2025\tClock time in Chromosome: chr8_100000001_125000000: 0\n",
            "INFO\tTue Apr 29 19:42:10 UTC 2025\tProcessing chromosome chunk: chr8_125000001_146364022\n",
            "INFO\tTue Apr 29 19:42:10 UTC 2025\tClock time in Chromosome: chr8_125000001_146364022: 0\n",
            "INFO\tTue Apr 29 19:42:10 UTC 2025\tProcessing chromosome chunk: chr9_1_25000000\n",
            "INFO\tTue Apr 29 19:42:10 UTC 2025\tClock time in Chromosome: chr9_1_25000000: 0\n",
            "INFO\tTue Apr 29 19:42:10 UTC 2025\tProcessing chromosome chunk: chr9_25000001_50000000\n",
            "INFO\tTue Apr 29 19:42:10 UTC 2025\tClock time in Chromosome: chr9_25000001_50000000: 0\n",
            "INFO\tTue Apr 29 19:42:10 UTC 2025\tProcessing chromosome chunk: chr9_50000001_75000000\n",
            "INFO\tTue Apr 29 19:42:10 UTC 2025\tClock time in Chromosome: chr9_50000001_75000000: 0\n",
            "INFO\tTue Apr 29 19:42:10 UTC 2025\tProcessing chromosome chunk: chr9_75000001_100000000\n",
            "INFO\tTue Apr 29 19:42:10 UTC 2025\tClock time in Chromosome: chr9_75000001_100000000: 0\n",
            "INFO\tTue Apr 29 19:42:10 UTC 2025\tProcessing chromosome chunk: chr9_100000001_125000000\n",
            "INFO\tTue Apr 29 19:42:10 UTC 2025\tClock time in Chromosome: chr9_100000001_125000000: 0\n",
            "INFO\tTue Apr 29 19:42:10 UTC 2025\tProcessing chromosome chunk: chr9_125000001_141213431\n",
            "INFO\tTue Apr 29 19:42:10 UTC 2025\tClock time in Chromosome: chr9_125000001_141213431: 0\n",
            "INFO\tTue Apr 29 19:42:10 UTC 2025\tProcessing chromosome chunk: chr10_1_25000000\n",
            "INFO\tTue Apr 29 19:42:10 UTC 2025\tClock time in Chromosome: chr10_1_25000000: 0\n",
            "INFO\tTue Apr 29 19:42:10 UTC 2025\tProcessing chromosome chunk: chr10_25000001_50000000\n",
            "INFO\tTue Apr 29 19:42:10 UTC 2025\tClock time in Chromosome: chr10_25000001_50000000: 0\n",
            "INFO\tTue Apr 29 19:42:10 UTC 2025\tProcessing chromosome chunk: chr10_50000001_75000000\n",
            "INFO\tTue Apr 29 19:42:10 UTC 2025\tClock time in Chromosome: chr10_50000001_75000000: 0\n",
            "INFO\tTue Apr 29 19:42:10 UTC 2025\tProcessing chromosome chunk: chr10_75000001_100000000\n",
            "INFO\tTue Apr 29 19:42:10 UTC 2025\tClock time in Chromosome: chr10_75000001_100000000: 0\n",
            "INFO\tTue Apr 29 19:42:10 UTC 2025\tProcessing chromosome chunk: chr10_100000001_125000000\n",
            "INFO\tTue Apr 29 19:42:10 UTC 2025\tClock time in Chromosome: chr10_100000001_125000000: 0\n",
            "INFO\tTue Apr 29 19:42:10 UTC 2025\tProcessing chromosome chunk: chr10_125000001_135534747\n",
            "INFO\tTue Apr 29 19:42:10 UTC 2025\tClock time in Chromosome: chr10_125000001_135534747: 0\n",
            "INFO\tTue Apr 29 19:42:10 UTC 2025\tProcessing chromosome chunk: chr11_1_25000000\n",
            "INFO\tTue Apr 29 19:42:10 UTC 2025\tClock time in Chromosome: chr11_1_25000000: 0\n",
            "INFO\tTue Apr 29 19:42:10 UTC 2025\tProcessing chromosome chunk: chr11_25000001_50000000\n",
            "INFO\tTue Apr 29 19:42:10 UTC 2025\tClock time in Chromosome: chr11_25000001_50000000: 0\n",
            "INFO\tTue Apr 29 19:42:10 UTC 2025\tProcessing chromosome chunk: chr11_50000001_75000000\n",
            "INFO\tTue Apr 29 19:42:10 UTC 2025\tClock time in Chromosome: chr11_50000001_75000000: 0\n",
            "INFO\tTue Apr 29 19:42:10 UTC 2025\tProcessing chromosome chunk: chr11_75000001_100000000\n",
            "INFO\tTue Apr 29 19:42:10 UTC 2025\tClock time in Chromosome: chr11_75000001_100000000: 0\n",
            "INFO\tTue Apr 29 19:42:10 UTC 2025\tProcessing chromosome chunk: chr11_100000001_125000000\n",
            "INFO\tTue Apr 29 19:42:10 UTC 2025\tClock time in Chromosome: chr11_100000001_125000000: 0\n",
            "INFO\tTue Apr 29 19:42:10 UTC 2025\tProcessing chromosome chunk: chr11_125000001_135006516\n",
            "INFO\tTue Apr 29 19:42:10 UTC 2025\tClock time in Chromosome: chr11_125000001_135006516: 0\n",
            "INFO\tTue Apr 29 19:42:10 UTC 2025\tProcessing chromosome chunk: chr12_1_25000000\n",
            "INFO\tTue Apr 29 19:42:10 UTC 2025\tClock time in Chromosome: chr12_1_25000000: 0\n",
            "INFO\tTue Apr 29 19:42:10 UTC 2025\tProcessing chromosome chunk: chr12_25000001_50000000\n",
            "INFO\tTue Apr 29 19:42:10 UTC 2025\tPROCESS_REGION_MSECS:\tchr12_25398208_25398329\t2\t0\t1\t0\n",
            "INFO\tTue Apr 29 19:42:10 UTC 2025\tClock time in Chromosome: chr12_25000001_50000000: 0\n",
            "INFO\tTue Apr 29 19:42:10 UTC 2025\tProcessing chromosome chunk: chr12_50000001_75000000\n",
            "INFO\tTue Apr 29 19:42:10 UTC 2025\tClock time in Chromosome: chr12_50000001_75000000: 0\n",
            "INFO\tTue Apr 29 19:42:10 UTC 2025\tProcessing chromosome chunk: chr12_75000001_100000000\n",
            "INFO\tTue Apr 29 19:42:10 UTC 2025\tClock time in Chromosome: chr12_75000001_100000000: 0\n",
            "INFO\tTue Apr 29 19:42:10 UTC 2025\tProcessing chromosome chunk: chr12_100000001_125000000\n",
            "INFO\tTue Apr 29 19:42:10 UTC 2025\tClock time in Chromosome: chr12_100000001_125000000: 0\n",
            "INFO\tTue Apr 29 19:42:10 UTC 2025\tProcessing chromosome chunk: chr12_125000001_133851895\n",
            "INFO\tTue Apr 29 19:42:10 UTC 2025\tClock time in Chromosome: chr12_125000001_133851895: 0\n",
            "INFO\tTue Apr 29 19:42:10 UTC 2025\tProcessing chromosome chunk: chr13_1_25000000\n",
            "INFO\tTue Apr 29 19:42:10 UTC 2025\tClock time in Chromosome: chr13_1_25000000: 0\n",
            "INFO\tTue Apr 29 19:42:10 UTC 2025\tProcessing chromosome chunk: chr13_25000001_50000000\n",
            "INFO\tTue Apr 29 19:42:11 UTC 2025\tPROCESS_REGION_MSECS:\tchr13_32910551_32910951\t29\t0\t1\t0\n",
            "INFO\tTue Apr 29 19:42:11 UTC 2025\tPROCESS_REGION_MSECS:\tchr13_32910751_32911151\t14\t0\t1\t0\n",
            "INFO\tTue Apr 29 19:42:11 UTC 2025\tPROCESS_REGION_MSECS:\tchr13_32910951_32911351\t14\t0\t1\t0\n",
            "INFO\tTue Apr 29 19:42:11 UTC 2025\tPROCESS_REGION_MSECS:\tchr13_32911151_32911551\t9\t0\t0\t0\n",
            "INFO\tTue Apr 29 19:42:11 UTC 2025\tPROCESS_REGION_MSECS:\tchr13_32911351_32911751\t8\t0\t0\t0\n",
            "INFO\tTue Apr 29 19:42:11 UTC 2025\tPROCESS_REGION_MSECS:\tchr13_32911551_32911951\t10\t0\t0\t0\n",
            "INFO\tTue Apr 29 19:42:11 UTC 2025\tPROCESS_REGION_MSECS:\tchr13_32911751_32912151\t11\t0\t0\t0\n",
            "INFO\tTue Apr 29 19:42:11 UTC 2025\tPROCESS_REGION_MSECS:\tchr13_32911951_32912351\t13\t0\t0\t0\n",
            "INFO\tTue Apr 29 19:42:11 UTC 2025\tPROCESS_REGION_MSECS:\tchr13_32912151_32912551\t11\t0\t0\t0\n",
            "INFO\tTue Apr 29 19:42:11 UTC 2025\tPROCESS_REGION_MSECS:\tchr1_27106137_27106537\t525\t24\t3\t0\n",
            "INFO\tTue Apr 29 19:42:11 UTC 2025\tPROCESS_REGION_MSECS:\tchr1_27106337_27106737\t16\t0\t1\t0\n",
            "INFO\tTue Apr 29 19:42:11 UTC 2025\tPROCESS_REGION_MSECS:\tchr1_27106537_27106937\t28\t0\t0\t0\n",
            "INFO\tTue Apr 29 19:42:11 UTC 2025\tPROCESS_REGION_MSECS:\tchr1_27106737_27107137\t18\t0\t1\t0\n",
            "INFO\tTue Apr 29 19:42:11 UTC 2025\tPROCESS_REGION_MSECS:\tchr1_27106937_27107337\t21\t0\t2\t0\n",
            "INFO\tTue Apr 29 19:42:11 UTC 2025\tPROCESS_REGION_MSECS:\tchr1_27107137_27107537\t5\t0\t1\t0\n",
            "INFO\tTue Apr 29 19:42:11 UTC 2025\tPROCESS_REGION_MSECS:\tchr1_27107337_27107737\t2\t0\t0\t0\n",
            "INFO\tTue Apr 29 19:42:11 UTC 2025\tPROCESS_REGION_MSECS:\tchr13_32912351_32912751\t26\t0\t0\t0\n",
            "INFO\tTue Apr 29 19:42:11 UTC 2025\tPROCESS_REGION_MSECS:\tchr1_27107537_27107952\t6\t0\t0\t0\n",
            "INFO\tTue Apr 29 19:42:11 UTC 2025\tPROCESS_REGION_MSECS:\tchr13_32912551_32912951\t14\t0\t1\t0\n",
            "INFO\tTue Apr 29 19:42:11 UTC 2025\tPROCESS_REGION_MSECS:\tchr13_32912751_32913151\t28\t0\t2\t0\n",
            "INFO\tTue Apr 29 19:42:11 UTC 2025\tPROCESS_REGION_MSECS:\tchr13_32912951_32913351\t8\t0\t1\t0\n",
            "INFO\tTue Apr 29 19:42:11 UTC 2025\tPROCESS_REGION_MSECS:\tchr13_32913151_32913551\t18\t0\t1\t0\n",
            "INFO\tTue Apr 29 19:42:11 UTC 2025\tPROCESS_REGION_MSECS:\tchr13_32913351_32913751\t35\t0\t3\t0\n",
            "INFO\tTue Apr 29 19:42:11 UTC 2025\tPROCESS_REGION_MSECS:\tchr13_32913551_32913951\t16\t0\t4\t0\n",
            "INFO\tTue Apr 29 19:42:11 UTC 2025\tPROCESS_REGION_MSECS:\tchr13_32913751_32914151\t6\t0\t2\t0\n",
            "INFO\tTue Apr 29 19:42:11 UTC 2025\tPROCESS_REGION_MSECS:\tchr13_32913951_32914351\t4\t0\t1\t0\n",
            "INFO\tTue Apr 29 19:42:11 UTC 2025\tPROCESS_REGION_MSECS:\tchr13_32914151_32914551\t17\t0\t0\t0\n",
            "INFO\tTue Apr 29 19:42:11 UTC 2025\tPROCESS_REGION_MSECS:\tchr13_32914351_32914751\t16\t0\t0\t0\n",
            "INFO\tTue Apr 29 19:42:12 UTC 2025\tPROCESS_REGION_MSECS:\tchr13_32914551_32914951\t3\t0\t0\t0\n",
            "INFO\tTue Apr 29 19:42:12 UTC 2025\tPROCESS_REGION_MSECS:\tchr13_32914751_32915151\t12\t0\t2\t0\n",
            "INFO\tTue Apr 29 19:42:13 UTC 2025\tPROCESS_REGION_MSECS:\tchr13_32914951_32915385\t655\t48\t5\t0\n",
            "INFO\tTue Apr 29 19:42:14 UTC 2025\tClock time in Chromosome: chr13_25000001_50000000: 4\n",
            "INFO\tTue Apr 29 19:42:14 UTC 2025\tProcessing chromosome chunk: chr13_50000001_75000000\n",
            "INFO\tTue Apr 29 19:42:14 UTC 2025\tClock time in Chromosome: chr13_50000001_75000000: 0\n",
            "INFO\tTue Apr 29 19:42:14 UTC 2025\tProcessing chromosome chunk: chr13_75000001_100000000\n",
            "INFO\tTue Apr 29 19:42:14 UTC 2025\tClock time in Chromosome: chr13_75000001_100000000: 0\n",
            "INFO\tTue Apr 29 19:42:14 UTC 2025\tProcessing chromosome chunk: chr13_100000001_115169878\n",
            "INFO\tTue Apr 29 19:42:15 UTC 2025\tClock time in Chromosome: chr13_100000001_115169878: 0\n",
            "INFO\tTue Apr 29 19:42:15 UTC 2025\tProcessing chromosome chunk: chr14_1_25000000\n",
            "INFO\tTue Apr 29 19:42:15 UTC 2025\tClock time in Chromosome: chr14_1_25000000: 0\n",
            "INFO\tTue Apr 29 19:42:15 UTC 2025\tProcessing chromosome chunk: chr14_25000001_50000000\n",
            "INFO\tTue Apr 29 19:42:15 UTC 2025\tClock time in Chromosome: chr14_25000001_50000000: 0\n",
            "INFO\tTue Apr 29 19:42:15 UTC 2025\tProcessing chromosome chunk: chr14_50000001_75000000\n",
            "INFO\tTue Apr 29 19:42:15 UTC 2025\tClock time in Chromosome: chr14_50000001_75000000: 0\n",
            "INFO\tTue Apr 29 19:42:15 UTC 2025\tProcessing chromosome chunk: chr14_75000001_100000000\n",
            "INFO\tTue Apr 29 19:42:15 UTC 2025\tClock time in Chromosome: chr14_75000001_100000000: 0\n",
            "INFO\tTue Apr 29 19:42:15 UTC 2025\tProcessing chromosome chunk: chr14_100000001_107349540\n",
            "INFO\tTue Apr 29 19:42:15 UTC 2025\tClock time in Chromosome: chr14_100000001_107349540: 0\n",
            "INFO\tTue Apr 29 19:42:15 UTC 2025\tProcessing chromosome chunk: chr15_1_25000000\n",
            "INFO\tTue Apr 29 19:42:15 UTC 2025\tClock time in Chromosome: chr15_1_25000000: 0\n",
            "INFO\tTue Apr 29 19:42:15 UTC 2025\tProcessing chromosome chunk: chr15_25000001_50000000\n",
            "INFO\tTue Apr 29 19:42:15 UTC 2025\tClock time in Chromosome: chr15_25000001_50000000: 0\n",
            "INFO\tTue Apr 29 19:42:15 UTC 2025\tProcessing chromosome chunk: chr15_50000001_75000000\n",
            "INFO\tTue Apr 29 19:42:15 UTC 2025\tClock time in Chromosome: chr15_50000001_75000000: 0\n",
            "INFO\tTue Apr 29 19:42:15 UTC 2025\tProcessing chromosome chunk: chr15_75000001_100000000\n",
            "INFO\tTue Apr 29 19:42:15 UTC 2025\tWaiting for processing threads to complete\n",
            "INFO\tTue Apr 29 19:42:15 UTC 2025\tClock time in Chromosome: chr15_75000001_100000000: 0\n",
            "INFO\tTue Apr 29 19:42:15 UTC 2025\tProcessing chromosome chunk: chr15_100000001_102531392\n",
            "INFO\tTue Apr 29 19:42:15 UTC 2025\tClock time in Chromosome: chr15_100000001_102531392: 0\n",
            "INFO\tTue Apr 29 19:42:15 UTC 2025\tProcessing chromosome chunk: chr16_1_25000000\n",
            "INFO\tTue Apr 29 19:42:15 UTC 2025\tClock time in Chromosome: chr16_1_25000000: 0\n",
            "INFO\tTue Apr 29 19:42:15 UTC 2025\tProcessing chromosome chunk: chr16_25000001_50000000\n",
            "INFO\tTue Apr 29 19:42:15 UTC 2025\tClock time in Chromosome: chr16_25000001_50000000: 0\n",
            "INFO\tTue Apr 29 19:42:15 UTC 2025\tProcessing chromosome chunk: chr16_50000001_75000000\n",
            "INFO\tTue Apr 29 19:42:15 UTC 2025\tClock time in Chromosome: chr16_50000001_75000000: 0\n",
            "INFO\tTue Apr 29 19:42:15 UTC 2025\tProcessing chromosome chunk: chr16_75000001_90354753\n",
            "INFO\tTue Apr 29 19:42:15 UTC 2025\tClock time in Chromosome: chr16_75000001_90354753: 0\n",
            "INFO\tTue Apr 29 19:42:15 UTC 2025\tProcessing chromosome chunk: chr17_1_25000000\n",
            "INFO\tTue Apr 29 19:42:15 UTC 2025\tClock time in Chromosome: chr17_1_25000000: 0\n",
            "INFO\tTue Apr 29 19:42:15 UTC 2025\tProcessing chromosome chunk: chr17_25000001_50000000\n",
            "INFO\tTue Apr 29 19:42:15 UTC 2025\tClock time in Chromosome: chr17_25000001_50000000: 0\n",
            "INFO\tTue Apr 29 19:42:15 UTC 2025\tProcessing chromosome chunk: chr17_50000001_75000000\n",
            "INFO\tTue Apr 29 19:42:15 UTC 2025\tClock time in Chromosome: chr17_50000001_75000000: 0\n",
            "INFO\tTue Apr 29 19:42:15 UTC 2025\tProcessing chromosome chunk: chr17_75000001_81195210\n",
            "INFO\tTue Apr 29 19:42:15 UTC 2025\tClock time in Chromosome: chr17_75000001_81195210: 0\n",
            "INFO\tTue Apr 29 19:42:15 UTC 2025\tProcessing chromosome chunk: chr18_1_25000000\n",
            "INFO\tTue Apr 29 19:42:15 UTC 2025\tClock time in Chromosome: chr18_1_25000000: 0\n",
            "INFO\tTue Apr 29 19:42:15 UTC 2025\tProcessing chromosome chunk: chr18_25000001_50000000\n",
            "INFO\tTue Apr 29 19:42:15 UTC 2025\tClock time in Chromosome: chr18_25000001_50000000: 0\n",
            "INFO\tTue Apr 29 19:42:15 UTC 2025\tProcessing chromosome chunk: chr18_50000001_75000000\n",
            "INFO\tTue Apr 29 19:42:15 UTC 2025\tClock time in Chromosome: chr18_50000001_75000000: 0\n",
            "INFO\tTue Apr 29 19:42:15 UTC 2025\tProcessing chromosome chunk: chr18_75000001_78077248\n",
            "INFO\tTue Apr 29 19:42:15 UTC 2025\tClock time in Chromosome: chr18_75000001_78077248: 0\n",
            "INFO\tTue Apr 29 19:42:15 UTC 2025\tProcessing chromosome chunk: chr19_1_25000000\n",
            "INFO\tTue Apr 29 19:42:15 UTC 2025\tClock time in Chromosome: chr19_1_25000000: 0\n",
            "INFO\tTue Apr 29 19:42:15 UTC 2025\tProcessing chromosome chunk: chr19_25000001_50000000\n",
            "INFO\tTue Apr 29 19:42:15 UTC 2025\tClock time in Chromosome: chr19_25000001_50000000: 0\n",
            "INFO\tTue Apr 29 19:42:15 UTC 2025\tProcessing chromosome chunk: chr19_50000001_59128983\n",
            "INFO\tTue Apr 29 19:42:15 UTC 2025\tClock time in Chromosome: chr19_50000001_59128983: 0\n",
            "INFO\tTue Apr 29 19:42:15 UTC 2025\tProcessing chromosome chunk: chr20_1_25000000\n",
            "INFO\tTue Apr 29 19:42:15 UTC 2025\tClock time in Chromosome: chr20_1_25000000: 0\n",
            "INFO\tTue Apr 29 19:42:15 UTC 2025\tProcessing chromosome chunk: chr20_25000001_50000000\n",
            "INFO\tTue Apr 29 19:42:15 UTC 2025\tClock time in Chromosome: chr20_25000001_50000000: 0\n",
            "INFO\tTue Apr 29 19:42:15 UTC 2025\tProcessing chromosome chunk: chr20_50000001_63025520\n",
            "INFO\tTue Apr 29 19:42:15 UTC 2025\tClock time in Chromosome: chr20_50000001_63025520: 0\n",
            "INFO\tTue Apr 29 19:42:15 UTC 2025\tProcessing chromosome chunk: chr21_1_25000000\n",
            "INFO\tTue Apr 29 19:42:15 UTC 2025\tClock time in Chromosome: chr21_1_25000000: 0\n",
            "INFO\tTue Apr 29 19:42:15 UTC 2025\tProcessing chromosome chunk: chr21_25000001_48129895\n",
            "INFO\tTue Apr 29 19:42:15 UTC 2025\tClock time in Chromosome: chr21_25000001_48129895: 0\n",
            "INFO\tTue Apr 29 19:42:15 UTC 2025\tProcessing chromosome chunk: chr22_1_25000000\n",
            "INFO\tTue Apr 29 19:42:15 UTC 2025\tClock time in Chromosome: chr22_1_25000000: 0\n",
            "INFO\tTue Apr 29 19:42:15 UTC 2025\tProcessing chromosome chunk: chr22_25000001_50000000\n",
            "INFO\tTue Apr 29 19:42:15 UTC 2025\tClock time in Chromosome: chr22_25000001_50000000: 0\n",
            "INFO\tTue Apr 29 19:42:15 UTC 2025\tProcessing chromosome chunk: chr22_50000001_51304566\n",
            "INFO\tTue Apr 29 19:42:15 UTC 2025\tClock time in Chromosome: chr22_50000001_51304566: 0\n",
            "INFO\tTue Apr 29 19:42:15 UTC 2025\tProcessing chromosome chunk: chrX_1_25000000\n",
            "INFO\tTue Apr 29 19:42:15 UTC 2025\tClock time in Chromosome: chrX_1_25000000: 0\n",
            "INFO\tTue Apr 29 19:42:15 UTC 2025\tProcessing chromosome chunk: chrX_25000001_50000000\n",
            "INFO\tTue Apr 29 19:42:15 UTC 2025\tClock time in Chromosome: chrX_25000001_50000000: 0\n",
            "INFO\tTue Apr 29 19:42:15 UTC 2025\tProcessing chromosome chunk: chrX_50000001_75000000\n",
            "INFO\tTue Apr 29 19:42:15 UTC 2025\tClock time in Chromosome: chrX_50000001_75000000: 0\n",
            "INFO\tTue Apr 29 19:42:15 UTC 2025\tProcessing chromosome chunk: chrX_75000001_100000000\n",
            "INFO\tTue Apr 29 19:42:15 UTC 2025\tClock time in Chromosome: chrX_75000001_100000000: 0\n",
            "INFO\tTue Apr 29 19:42:15 UTC 2025\tProcessing chromosome chunk: chrX_100000001_125000000\n",
            "INFO\tTue Apr 29 19:42:15 UTC 2025\tClock time in Chromosome: chrX_100000001_125000000: 0\n",
            "INFO\tTue Apr 29 19:42:15 UTC 2025\tProcessing chromosome chunk: chrX_125000001_150000000\n",
            "INFO\tTue Apr 29 19:42:15 UTC 2025\tClock time in Chromosome: chrX_125000001_150000000: 0\n",
            "INFO\tTue Apr 29 19:42:15 UTC 2025\tProcessing chromosome chunk: chrX_150000001_155270560\n",
            "INFO\tTue Apr 29 19:42:15 UTC 2025\tClock time in Chromosome: chrX_150000001_155270560: 0\n",
            "INFO\tTue Apr 29 19:42:15 UTC 2025\tProcessing chromosome chunk: chrY_1_25000000\n",
            "INFO\tTue Apr 29 19:42:15 UTC 2025\tClock time in Chromosome: chrY_1_25000000: 0\n",
            "INFO\tTue Apr 29 19:42:15 UTC 2025\tProcessing chromosome chunk: chrY_25000001_50000000\n",
            "INFO\tTue Apr 29 19:42:15 UTC 2025\tClock time in Chromosome: chrY_25000001_50000000: 0\n",
            "INFO\tTue Apr 29 19:42:15 UTC 2025\tProcessing chromosome chunk: chrY_50000001_59373566\n",
            "INFO\tTue Apr 29 19:42:15 UTC 2025\tClock time in Chromosome: chrY_50000001_59373566: 0\n",
            "INFO\tTue Apr 29 19:42:15 UTC 2025\tProcessing chromosome chunk: chrMT_1_16569\n",
            "INFO\tTue Apr 29 19:42:15 UTC 2025\tClock time in Chromosome: chrMT_1_16569: 0\n",
            "INFO\tTue Apr 29 19:42:15 UTC 2025\tProcessing chromosome chunk: chr1_gl000191_random_1_106433\n",
            "INFO\tTue Apr 29 19:42:15 UTC 2025\tClock time in Chromosome: chr1_gl000191_random_1_106433: 0\n",
            "INFO\tTue Apr 29 19:42:15 UTC 2025\tProcessing chromosome chunk: chr1_gl000192_random_1_547496\n",
            "INFO\tTue Apr 29 19:42:15 UTC 2025\tClock time in Chromosome: chr1_gl000192_random_1_547496: 0\n",
            "INFO\tTue Apr 29 19:42:15 UTC 2025\tProcessing chromosome chunk: chr4_gl000193_random_1_189789\n",
            "INFO\tTue Apr 29 19:42:15 UTC 2025\tClock time in Chromosome: chr4_gl000193_random_1_189789: 0\n",
            "INFO\tTue Apr 29 19:42:15 UTC 2025\tProcessing chromosome chunk: chr4_gl000194_random_1_191469\n",
            "INFO\tTue Apr 29 19:42:15 UTC 2025\tClock time in Chromosome: chr4_gl000194_random_1_191469: 0\n",
            "INFO\tTue Apr 29 19:42:15 UTC 2025\tProcessing chromosome chunk: chr7_gl000195_random_1_182896\n",
            "INFO\tTue Apr 29 19:42:15 UTC 2025\tClock time in Chromosome: chr7_gl000195_random_1_182896: 0\n",
            "INFO\tTue Apr 29 19:42:15 UTC 2025\tProcessing chromosome chunk: chr8_gl000196_random_1_38914\n",
            "INFO\tTue Apr 29 19:42:15 UTC 2025\tClock time in Chromosome: chr8_gl000196_random_1_38914: 0\n",
            "INFO\tTue Apr 29 19:42:15 UTC 2025\tProcessing chromosome chunk: chr8_gl000197_random_1_37175\n",
            "INFO\tTue Apr 29 19:42:15 UTC 2025\tClock time in Chromosome: chr8_gl000197_random_1_37175: 0\n",
            "INFO\tTue Apr 29 19:42:15 UTC 2025\tProcessing chromosome chunk: chr9_gl000198_random_1_90085\n",
            "INFO\tTue Apr 29 19:42:15 UTC 2025\tClock time in Chromosome: chr9_gl000198_random_1_90085: 0\n",
            "INFO\tTue Apr 29 19:42:15 UTC 2025\tProcessing chromosome chunk: chr9_gl000199_random_1_169874\n",
            "INFO\tTue Apr 29 19:42:15 UTC 2025\tClock time in Chromosome: chr9_gl000199_random_1_169874: 0\n",
            "INFO\tTue Apr 29 19:42:15 UTC 2025\tProcessing chromosome chunk: chr9_gl000200_random_1_187035\n",
            "INFO\tTue Apr 29 19:42:15 UTC 2025\tClock time in Chromosome: chr9_gl000200_random_1_187035: 0\n",
            "INFO\tTue Apr 29 19:42:15 UTC 2025\tProcessing chromosome chunk: chr9_gl000201_random_1_36148\n",
            "INFO\tTue Apr 29 19:42:15 UTC 2025\tClock time in Chromosome: chr9_gl000201_random_1_36148: 0\n",
            "INFO\tTue Apr 29 19:42:15 UTC 2025\tProcessing chromosome chunk: chr11_gl000202_random_1_40103\n",
            "INFO\tTue Apr 29 19:42:15 UTC 2025\tClock time in Chromosome: chr11_gl000202_random_1_40103: 0\n",
            "INFO\tTue Apr 29 19:42:15 UTC 2025\tProcessing chromosome chunk: chr17_gl000203_random_1_37498\n",
            "INFO\tTue Apr 29 19:42:15 UTC 2025\tClock time in Chromosome: chr17_gl000203_random_1_37498: 0\n",
            "INFO\tTue Apr 29 19:42:15 UTC 2025\tProcessing chromosome chunk: chr17_gl000204_random_1_81310\n",
            "INFO\tTue Apr 29 19:42:15 UTC 2025\tClock time in Chromosome: chr17_gl000204_random_1_81310: 0\n",
            "INFO\tTue Apr 29 19:42:15 UTC 2025\tProcessing chromosome chunk: chr17_gl000205_random_1_174588\n",
            "INFO\tTue Apr 29 19:42:15 UTC 2025\tClock time in Chromosome: chr17_gl000205_random_1_174588: 0\n",
            "INFO\tTue Apr 29 19:42:15 UTC 2025\tProcessing chromosome chunk: chr17_gl000206_random_1_41001\n",
            "INFO\tTue Apr 29 19:42:15 UTC 2025\tClock time in Chromosome: chr17_gl000206_random_1_41001: 0\n",
            "INFO\tTue Apr 29 19:42:15 UTC 2025\tProcessing chromosome chunk: chr18_gl000207_random_1_4262\n",
            "INFO\tTue Apr 29 19:42:15 UTC 2025\tClock time in Chromosome: chr18_gl000207_random_1_4262: 0\n",
            "INFO\tTue Apr 29 19:42:15 UTC 2025\tProcessing chromosome chunk: chr19_gl000208_random_1_92689\n",
            "INFO\tTue Apr 29 19:42:16 UTC 2025\tClock time in Chromosome: chr19_gl000208_random_1_92689: 0\n",
            "INFO\tTue Apr 29 19:42:16 UTC 2025\tProcessing chromosome chunk: chr19_gl000209_random_1_159169\n",
            "INFO\tTue Apr 29 19:42:16 UTC 2025\tClock time in Chromosome: chr19_gl000209_random_1_159169: 0\n",
            "INFO\tTue Apr 29 19:42:16 UTC 2025\tProcessing chromosome chunk: chr21_gl000210_random_1_27682\n",
            "INFO\tTue Apr 29 19:42:16 UTC 2025\tClock time in Chromosome: chr21_gl000210_random_1_27682: 0\n",
            "INFO\tTue Apr 29 19:42:16 UTC 2025\tProcessing chromosome chunk: chrUn_gl000211_1_166566\n",
            "INFO\tTue Apr 29 19:42:16 UTC 2025\tClock time in Chromosome: chrUn_gl000211_1_166566: 0\n",
            "INFO\tTue Apr 29 19:42:16 UTC 2025\tProcessing chromosome chunk: chrUn_gl000212_1_186858\n",
            "INFO\tTue Apr 29 19:42:16 UTC 2025\tClock time in Chromosome: chrUn_gl000212_1_186858: 0\n",
            "INFO\tTue Apr 29 19:42:16 UTC 2025\tProcessing chromosome chunk: chrUn_gl000213_1_164239\n",
            "INFO\tTue Apr 29 19:42:16 UTC 2025\tClock time in Chromosome: chrUn_gl000213_1_164239: 0\n",
            "INFO\tTue Apr 29 19:42:16 UTC 2025\tProcessing chromosome chunk: chrUn_gl000214_1_137718\n",
            "INFO\tTue Apr 29 19:42:16 UTC 2025\tClock time in Chromosome: chrUn_gl000214_1_137718: 0\n",
            "INFO\tTue Apr 29 19:42:16 UTC 2025\tProcessing chromosome chunk: chrUn_gl000215_1_172545\n",
            "INFO\tTue Apr 29 19:42:16 UTC 2025\tClock time in Chromosome: chrUn_gl000215_1_172545: 0\n",
            "INFO\tTue Apr 29 19:42:16 UTC 2025\tProcessing chromosome chunk: chrUn_gl000216_1_172294\n",
            "INFO\tTue Apr 29 19:42:16 UTC 2025\tClock time in Chromosome: chrUn_gl000216_1_172294: 0\n",
            "INFO\tTue Apr 29 19:42:16 UTC 2025\tProcessing chromosome chunk: chrUn_gl000217_1_172149\n",
            "INFO\tTue Apr 29 19:42:16 UTC 2025\tClock time in Chromosome: chrUn_gl000217_1_172149: 0\n",
            "INFO\tTue Apr 29 19:42:16 UTC 2025\tProcessing chromosome chunk: chrUn_gl000218_1_161147\n",
            "INFO\tTue Apr 29 19:42:16 UTC 2025\tClock time in Chromosome: chrUn_gl000218_1_161147: 0\n",
            "INFO\tTue Apr 29 19:42:16 UTC 2025\tProcessing chromosome chunk: chrUn_gl000219_1_179198\n",
            "INFO\tTue Apr 29 19:42:16 UTC 2025\tClock time in Chromosome: chrUn_gl000219_1_179198: 0\n",
            "INFO\tTue Apr 29 19:42:16 UTC 2025\tProcessing chromosome chunk: chrUn_gl000220_1_161802\n",
            "INFO\tTue Apr 29 19:42:16 UTC 2025\tClock time in Chromosome: chrUn_gl000220_1_161802: 0\n",
            "INFO\tTue Apr 29 19:42:16 UTC 2025\tProcessing chromosome chunk: chrUn_gl000221_1_155397\n",
            "INFO\tTue Apr 29 19:42:16 UTC 2025\tClock time in Chromosome: chrUn_gl000221_1_155397: 0\n",
            "INFO\tTue Apr 29 19:42:16 UTC 2025\tProcessing chromosome chunk: chrUn_gl000222_1_186861\n",
            "INFO\tTue Apr 29 19:42:16 UTC 2025\tClock time in Chromosome: chrUn_gl000222_1_186861: 0\n",
            "INFO\tTue Apr 29 19:42:16 UTC 2025\tProcessing chromosome chunk: chrUn_gl000223_1_180455\n",
            "INFO\tTue Apr 29 19:42:16 UTC 2025\tClock time in Chromosome: chrUn_gl000223_1_180455: 0\n",
            "INFO\tTue Apr 29 19:42:16 UTC 2025\tProcessing chromosome chunk: chrUn_gl000224_1_179693\n",
            "INFO\tTue Apr 29 19:42:16 UTC 2025\tClock time in Chromosome: chrUn_gl000224_1_179693: 0\n",
            "INFO\tTue Apr 29 19:42:16 UTC 2025\tProcessing chromosome chunk: chrUn_gl000225_1_211173\n",
            "INFO\tTue Apr 29 19:42:16 UTC 2025\tClock time in Chromosome: chrUn_gl000225_1_211173: 0\n",
            "INFO\tTue Apr 29 19:42:16 UTC 2025\tProcessing chromosome chunk: chrUn_gl000226_1_15008\n",
            "INFO\tTue Apr 29 19:42:16 UTC 2025\tClock time in Chromosome: chrUn_gl000226_1_15008: 0\n",
            "INFO\tTue Apr 29 19:42:16 UTC 2025\tProcessing chromosome chunk: chrUn_gl000227_1_128374\n",
            "INFO\tTue Apr 29 19:42:16 UTC 2025\tClock time in Chromosome: chrUn_gl000227_1_128374: 0\n",
            "INFO\tTue Apr 29 19:42:16 UTC 2025\tProcessing chromosome chunk: chrUn_gl000228_1_129120\n",
            "INFO\tTue Apr 29 19:42:16 UTC 2025\tClock time in Chromosome: chrUn_gl000228_1_129120: 0\n",
            "INFO\tTue Apr 29 19:42:16 UTC 2025\tProcessing chromosome chunk: chrUn_gl000229_1_19913\n",
            "INFO\tTue Apr 29 19:42:16 UTC 2025\tClock time in Chromosome: chrUn_gl000229_1_19913: 0\n",
            "INFO\tTue Apr 29 19:42:16 UTC 2025\tProcessing chromosome chunk: chrUn_gl000230_1_43691\n",
            "INFO\tTue Apr 29 19:42:16 UTC 2025\tClock time in Chromosome: chrUn_gl000230_1_43691: 0\n",
            "INFO\tTue Apr 29 19:42:16 UTC 2025\tProcessing chromosome chunk: chrUn_gl000231_1_27386\n",
            "INFO\tTue Apr 29 19:42:16 UTC 2025\tClock time in Chromosome: chrUn_gl000231_1_27386: 0\n",
            "INFO\tTue Apr 29 19:42:16 UTC 2025\tProcessing chromosome chunk: chrUn_gl000232_1_40652\n",
            "INFO\tTue Apr 29 19:42:16 UTC 2025\tClock time in Chromosome: chrUn_gl000232_1_40652: 0\n",
            "INFO\tTue Apr 29 19:42:16 UTC 2025\tProcessing chromosome chunk: chrUn_gl000233_1_45941\n",
            "INFO\tTue Apr 29 19:42:16 UTC 2025\tClock time in Chromosome: chrUn_gl000233_1_45941: 0\n",
            "INFO\tTue Apr 29 19:42:16 UTC 2025\tProcessing chromosome chunk: chrUn_gl000234_1_40531\n",
            "INFO\tTue Apr 29 19:42:16 UTC 2025\tClock time in Chromosome: chr1_25000001_50000000: 6\n",
            "INFO\tTue Apr 29 19:42:16 UTC 2025\tProcessing chromosome chunk: chrUn_gl000235_1_34474\n",
            "INFO\tTue Apr 29 19:42:16 UTC 2025\tClock time in Chromosome: chrUn_gl000235_1_34474: 0\n",
            "INFO\tTue Apr 29 19:42:16 UTC 2025\tProcessing chromosome chunk: chrUn_gl000236_1_41934\n",
            "INFO\tTue Apr 29 19:42:16 UTC 2025\tClock time in Chromosome: chrUn_gl000234_1_40531: 0\n",
            "INFO\tTue Apr 29 19:42:16 UTC 2025\tProcessing chromosome chunk: chrUn_gl000237_1_45867\n",
            "INFO\tTue Apr 29 19:42:16 UTC 2025\tClock time in Chromosome: chrUn_gl000236_1_41934: 0\n",
            "INFO\tTue Apr 29 19:42:16 UTC 2025\tProcessing chromosome chunk: chrUn_gl000238_1_39939\n",
            "INFO\tTue Apr 29 19:42:16 UTC 2025\tClock time in Chromosome: chrUn_gl000237_1_45867: 0\n",
            "INFO\tTue Apr 29 19:42:16 UTC 2025\tProcessing chromosome chunk: chrUn_gl000239_1_33824\n",
            "INFO\tTue Apr 29 19:42:16 UTC 2025\tClock time in Chromosome: chrUn_gl000238_1_39939: 0\n",
            "INFO\tTue Apr 29 19:42:16 UTC 2025\tProcessing chromosome chunk: chrUn_gl000240_1_41933\n",
            "INFO\tTue Apr 29 19:42:16 UTC 2025\tClock time in Chromosome: chrUn_gl000239_1_33824: 0\n",
            "INFO\tTue Apr 29 19:42:16 UTC 2025\tProcessing chromosome chunk: chrUn_gl000241_1_42152\n",
            "INFO\tTue Apr 29 19:42:16 UTC 2025\tClock time in Chromosome: chrUn_gl000240_1_41933: 0\n",
            "INFO\tTue Apr 29 19:42:16 UTC 2025\tProcessing chromosome chunk: chrUn_gl000242_1_43523\n",
            "INFO\tTue Apr 29 19:42:16 UTC 2025\tClock time in Chromosome: chrUn_gl000241_1_42152: 0\n",
            "INFO\tTue Apr 29 19:42:16 UTC 2025\tProcessing chromosome chunk: chrUn_gl000243_1_43341\n",
            "INFO\tTue Apr 29 19:42:16 UTC 2025\tClock time in Chromosome: chrUn_gl000243_1_43341: 0\n",
            "INFO\tTue Apr 29 19:42:16 UTC 2025\tClock time in Chromosome: chrUn_gl000242_1_43523: 0\n",
            "INFO\tTue Apr 29 19:42:16 UTC 2025\tProcessing chromosome chunk: chrUn_gl000245_1_36651\n",
            "INFO\tTue Apr 29 19:42:16 UTC 2025\tClock time in Chromosome: chrUn_gl000245_1_36651: 0\n",
            "INFO\tTue Apr 29 19:42:16 UTC 2025\tProcessing chromosome chunk: chrUn_gl000246_1_38154\n",
            "INFO\tTue Apr 29 19:42:16 UTC 2025\tProcessing chromosome chunk: chrUn_gl000244_1_39929\n",
            "INFO\tTue Apr 29 19:42:16 UTC 2025\tClock time in Chromosome: chrUn_gl000244_1_39929: 0\n",
            "INFO\tTue Apr 29 19:42:16 UTC 2025\tProcessing chromosome chunk: chrUn_gl000247_1_36422\n",
            "INFO\tTue Apr 29 19:42:16 UTC 2025\tClock time in Chromosome: chrUn_gl000246_1_38154: 0\n",
            "INFO\tTue Apr 29 19:42:16 UTC 2025\tProcessing chromosome chunk: chrUn_gl000248_1_39786\n",
            "INFO\tTue Apr 29 19:42:16 UTC 2025\tClock time in Chromosome: chrUn_gl000248_1_39786: 0\n",
            "INFO\tTue Apr 29 19:42:16 UTC 2025\tProcessing chromosome chunk: chrUn_gl000249_1_38502\n",
            "INFO\tTue Apr 29 19:42:16 UTC 2025\tClock time in Chromosome: chrUn_gl000247_1_36422: 0\n",
            "INFO\tTue Apr 29 19:42:16 UTC 2025\tProcessing chromosome chunk: chrEBV_1_171823\n",
            "INFO\tTue Apr 29 19:42:16 UTC 2025\tClock time in Chromosome: chrUn_gl000249_1_38502: 0\n",
            "INFO\tTue Apr 29 19:42:16 UTC 2025\tClock time in Chromosome: chrEBV_1_171823: 0\n",
            "INFO\tTue Apr 29 19:42:16 UTC 2025\tClock time in Realignment: 6\n",
            "INFO\tTue Apr 29 19:42:16 UTC 2025\tWaiting for writer threads to complete\n",
            "INFO\tTue Apr 29 19:42:16 UTC 2025\tFinishing: data/hd701_realigned.bam\n",
            "INFO\tTue Apr 29 19:42:17 UTC 2025\tClock time in Sort and cleanup: 1\n",
            "INFO\tTue Apr 29 19:42:17 UTC 2025\tDone.\n",
            "INFO\tTue Apr 29 19:42:17 UTC 2025\tElapsed seconds: 107\n",
            "@HD\tVN:1.5\tSO:coordinate\n",
            "@SQ\tSN:chr1\tLN:249250621\n",
            "@SQ\tSN:chr2\tLN:243199373\n",
            "@SQ\tSN:chr3\tLN:198022430\n",
            "@SQ\tSN:chr4\tLN:191154276\n",
            "@SQ\tSN:chr5\tLN:180915260\n",
            "@SQ\tSN:chr6\tLN:171115067\n",
            "@SQ\tSN:chr7\tLN:159138663\n",
            "@SQ\tSN:chr8\tLN:146364022\n",
            "@SQ\tSN:chr9\tLN:141213431\n",
            "@SQ\tSN:chr10\tLN:135534747\n",
            "@SQ\tSN:chr11\tLN:135006516\n",
            "@SQ\tSN:chr12\tLN:133851895\n",
            "@SQ\tSN:chr13\tLN:115169878\n",
            "@SQ\tSN:chr14\tLN:107349540\n",
            "@SQ\tSN:chr15\tLN:102531392\n",
            "@SQ\tSN:chr16\tLN:90354753\n",
            "@SQ\tSN:chr17\tLN:81195210\n",
            "@SQ\tSN:chr18\tLN:78077248\n",
            "@SQ\tSN:chr19\tLN:59128983\n"
          ]
        }
      ]
    },
    {
      "cell_type": "code",
      "source": [
        "!samtools index data/hd701_realigned.bam\n",
        "!ls -l /content/assets/gatk_b37/hg19.p13.plusMT.no_alt_analysis_set.fa\n",
        "!head -n 5 /content/assets/gatk_b37/hg19.p13.plusMT.no_alt_analysis_set/hg19.fa\n",
        "!ls -l assets/ngs_ws.bed\n",
        "!head -n 5 assets/ngs_ws.bed\n",
        "!java -version\n",
        "!ls -l VarScan.v2.4.6.jar\n"
      ],
      "metadata": {
        "id": "6lhXsb1VVkjQ",
        "outputId": "9339347f-65d5-4a17-98b2-33b78e88a65e",
        "colab": {
          "base_uri": "https://localhost:8080/"
        }
      },
      "execution_count": 31,
      "outputs": [
        {
          "output_type": "stream",
          "name": "stdout",
          "text": [
            "ls: cannot access '/content/assets/gatk_b37/hg19.p13.plusMT.no_alt_analysis_set/hg19.fa': No such file or directory\n",
            "head: cannot open '/content/assets/gatk_b37/hg19.p13.plusMT.no_alt_analysis_set/hg19.fa' for reading: No such file or directory\n",
            "-rw-r--r-- 1 root root 204 Apr 29 19:39 assets/ngs_ws.bed\n",
            "chr1\t27105337\t27107952\tARID1A\n",
            "chr3\t178951769\t178952287\tPIK3CA_ex21\n",
            "chr7\t55241584\t55241766\tEGFR_ex18\n",
            "chr7\t140453045\t140453223\tBRAF_ex15\n",
            "chr12\t25398208\t25398329\tKRAS_ex2\n",
            "openjdk version \"11.0.26\" 2025-01-21\n",
            "OpenJDK Runtime Environment (build 11.0.26+4-post-Ubuntu-1ubuntu122.04)\n",
            "OpenJDK 64-Bit Server VM (build 11.0.26+4-post-Ubuntu-1ubuntu122.04, mixed mode, sharing)\n",
            "-rwxr-xr-x 1 root root 126611 Apr 29 19:03 VarScan.v2.4.6.jar\n",
            "head: cannot open 'data/hd701_mpileup.txt' for reading: No such file or directory\n",
            "wc: data/hd701_mpileup.txt: No such file or directory\n"
          ]
        }
      ]
    },
    {
      "cell_type": "code",
      "source": [
        "!gunzip /content/assets/hg19fa_index.gz -c > assets/gatk_b37/hg19.fa"
      ],
      "metadata": {
        "id": "wEA2jlqJStHZ"
      },
      "execution_count": null,
      "outputs": []
    },
    {
      "cell_type": "code",
      "source": [
        "!samtools mpileup -BA -q 20 -Q 30 -d 4000 -l assets/ngs_ws.bed -f /content/assets/gatk_b37/hg19.p13.plusMT.no_alt_analysis_set.fa data/hd701_realigned.bam > data/hd701_mpileup.txt\n",
        "!wc -l data/hd701_mpileup.txt\n",
        "# Step 2: Run VarScan on the mpileup file\n",
        "#!cat data/hd701_mpileup.txt | java -Xmx4G -jar VarScan.v2.4.6.jar mpileup2vcf --min-coverage 8 --min-var-freq 0.05 --p-value 0.05 --min-avg-qual 30 --strand-filter 1 --output-vcf 1 --variants > data/hd701_raw.vcf"
      ],
      "metadata": {
        "colab": {
          "base_uri": "https://localhost:8080/"
        },
        "id": "nZHuJyLiV3I4",
        "outputId": "3c341c24-30b9-46c6-fe06-e1cbb4c0a95f"
      },
      "execution_count": 33,
      "outputs": [
        {
          "output_type": "stream",
          "name": "stdout",
          "text": [
            "[mpileup] 1 samples in 1 input files\n",
            "8078 data/hd701_mpileup.txt\n"
          ]
        }
      ]
    },
    {
      "cell_type": "code",
      "source": [
        "!# 11. Call variant - Update the reference path\n",
        "!samtools mpileup -BA -q 20 -Q 30 -d 4000 -l assets/ngs_ws.bed -f /content/assets/gatk_b37/hg19.p13.plusMT.no_alt_analysis_set.fa data/hd701_realigned.bam | java -Xmx4G -jar VarScan.v2.4.6.jar mpileup2vcf --min-coverage 8 --min-var-freq 0.05 --p-value 0.05 --min-avg-qual 30 --strand-filter 1 --output-vcf 1 --variants > data/hd701_raw.vcf"
      ],
      "metadata": {
        "colab": {
          "base_uri": "https://localhost:8080/"
        },
        "id": "vSBVTyONUxOF",
        "outputId": "7fc18871-4d2a-4561-9f9b-a6775406ead7"
      },
      "execution_count": 35,
      "outputs": [
        {
          "output_type": "stream",
          "name": "stdout",
          "text": [
            "[mpileup] 1 samples in 1 input files\n",
            "Only variants will be reported\n",
            "Min coverage:\t8\n",
            "Min reads2:\t2\n",
            "Min var freq:\t0.05\n",
            "Min avg qual:\t30\n",
            "P-value thresh:\t0.05\n",
            "Input stream not ready, waiting for 5 seconds...\n",
            "Reading input from STDIN\n",
            "8078 bases in pileup file\n",
            "14 variant positions (10 SNP, 4 indel)\n",
            "0 were failed by the strand-filter\n",
            "14 variant positions reported (10 SNP, 4 indel)\n"
          ]
        }
      ]
    },
    {
      "cell_type": "code",
      "source": [
        "# 12. Compress and index VCF file\n",
        "!bgzip data/hd701_raw.vcf\n",
        "!tabix -p vcf data/hd701_raw.vcf.gz\n",
        "\n",
        "# 13. Inspect variants in a raw VCF file\n",
        "!zcat data/hd701_raw.vcf.gz | head -n 20\n",
        "\n"
      ],
      "metadata": {
        "colab": {
          "base_uri": "https://localhost:8080/"
        },
        "id": "10pXsS4ZXjUB",
        "outputId": "72b016e1-ac1b-4ff3-9dae-eae9c142d2ec"
      },
      "execution_count": 36,
      "outputs": [
        {
          "output_type": "stream",
          "name": "stdout",
          "text": [
            "##fileformat=VCFv4.3\n",
            "##source=VarScan2\n",
            "##INFO=<ID=ADP,Number=1,Type=Integer,Description=\"Average per-sample depth of bases with Phred score >= 30\">\n",
            "##INFO=<ID=WT,Number=1,Type=Integer,Description=\"Number of samples called reference (wild-type)\">\n",
            "##INFO=<ID=HET,Number=1,Type=Integer,Description=\"Number of samples called heterozygous-variant\">\n",
            "##INFO=<ID=HOM,Number=1,Type=Integer,Description=\"Number of samples called homozygous-variant\">\n",
            "##INFO=<ID=NC,Number=1,Type=Integer,Description=\"Number of samples not called\">\n",
            "##FILTER=<ID=str10,Description=\"Less than 10% or more than 90% of variant supporting reads on one strand\">\n",
            "##FILTER=<ID=indelError,Description=\"Likely artifact due to indel reads at this position\">\n",
            "##FORMAT=<ID=GT,Number=1,Type=String,Description=\"Genotype\">\n",
            "##FORMAT=<ID=GQ,Number=1,Type=Integer,Description=\"Genotype Quality\">\n",
            "##FORMAT=<ID=SDP,Number=1,Type=Integer,Description=\"Raw Read Depth as reported by SAMtools\">\n",
            "##FORMAT=<ID=DP,Number=1,Type=Integer,Description=\"Quality Read Depth of bases with Phred score >= 30\">\n",
            "##FORMAT=<ID=RD,Number=1,Type=Integer,Description=\"Depth of reference-supporting bases (reads1)\">\n",
            "##FORMAT=<ID=AD,Number=1,Type=Integer,Description=\"Depth of variant-supporting bases (reads2)\">\n",
            "##FORMAT=<ID=FREQ,Number=1,Type=String,Description=\"Variant allele frequency\">\n",
            "##FORMAT=<ID=PVAL,Number=1,Type=String,Description=\"P-value from Fisher's Exact Test\">\n",
            "##FORMAT=<ID=RBQ,Number=1,Type=Integer,Description=\"Average quality of reference-supporting bases (qual1)\">\n",
            "##FORMAT=<ID=ABQ,Number=1,Type=Integer,Description=\"Average quality of variant-supporting bases (qual2)\">\n",
            "##FORMAT=<ID=RDF,Number=1,Type=Integer,Description=\"Depth of reference-supporting bases on forward strand (reads1plus)\">\n"
          ]
        }
      ]
    },
    {
      "cell_type": "code",
      "source": [
        "!perl /content/annovar/annotate_variation.pl -buildver hg19 -downdb hg19_cosmic assets/humandb/"
      ],
      "metadata": {
        "colab": {
          "base_uri": "https://localhost:8080/"
        },
        "id": "5cpJuPPdcOLK",
        "outputId": "e7d72640-33a8-4e44-8089-b7e788d04e9e"
      },
      "execution_count": 37,
      "outputs": [
        {
          "output_type": "stream",
          "name": "stdout",
          "text": [
            "NOTICE: Web-based checking to see whether ANNOVAR new version is available ... Done\n",
            "NOTICE: Downloading annotation database http://hgdownload.cse.ucsc.edu/goldenPath/hg19/database/hg19_cosmic.txt.gz ... Failed\n",
            "WARNING: Some files cannot be downloaded, including http://hgdownload.cse.ucsc.edu/goldenPath/hg19/database/hg19_cosmic.txt.gz\n"
          ]
        }
      ]
    },
    {
      "cell_type": "code",
      "source": [],
      "metadata": {
        "id": "gjmbA7zAGHMh"
      },
      "execution_count": null,
      "outputs": []
    },
    {
      "cell_type": "code",
      "source": [
        "# 14. Annotate variants (requires ANNOVAR to be set up)\n",
        "!perl annovar/table_annovar.pl data/hd701_raw.vcf.gz assets/humandb/ -out data/hd701_annotated -buildver hg19 -remove -nastring . -otherinfo -vcfinput -thread 2 -maxgenethread 2 -protocol refGene,cytoBand,cosmic85,clinvar_20150330 -operation g,r,f,f\n",
        "\n",
        "# 15. Inspect annotated VCF file\n",
        "!head -n 20 data/hd701_annotated.hg19_multianno.vcf"
      ],
      "metadata": {
        "colab": {
          "base_uri": "https://localhost:8080/"
        },
        "id": "MeRm3HGFXqbe",
        "outputId": "91a8b835-1fd8-49d1-c811-52585b6c4aca"
      },
      "execution_count": null,
      "outputs": [
        {
          "output_type": "stream",
          "name": "stdout",
          "text": [
            "NOTICE: the --polish argument is set ON automatically (use --nopolish to change this behavior)\n",
            "Error: the required database file assets/humandb/hg19_cosmic85.txt does not exist.\n",
            "head: cannot open 'data/hd701_annotated.hg19_multianno.vcf' for reading: No such file or directory\n"
          ]
        }
      ]
    }
  ]
}